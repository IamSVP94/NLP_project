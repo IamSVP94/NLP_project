{
  "nbformat": 4,
  "nbformat_minor": 0,
  "metadata": {
    "kernelspec": {
      "display_name": "Python 3",
      "language": "python",
      "name": "python3"
    },
    "language_info": {
      "codemirror_mode": {
        "name": "ipython",
        "version": 3
      },
      "file_extension": ".py",
      "mimetype": "text/x-python",
      "name": "python",
      "nbconvert_exporter": "python",
      "pygments_lexer": "ipython3",
      "version": "3.7.7"
    },
    "toc": {
      "base_numbering": 1,
      "nav_menu": {},
      "number_sections": true,
      "sideBar": true,
      "skip_h1_title": false,
      "title_cell": "",
      "title_sidebar": "Навигация",
      "toc_cell": false,
      "toc_position": {
        "height": "calc(100% - 180px)",
        "left": "10px",
        "top": "150px",
        "width": "192.188px"
      },
      "toc_section_display": true,
      "toc_window_display": true
    },
    "colab": {
      "name": "Sentiment analysis of reviews tonality from KinoPoisk.ipynb",
      "provenance": [],
      "collapsed_sections": [
        "Gm9Oc7OfVow3"
      ],
      "toc_visible": true,
      "include_colab_link": true
    }
  },
  "cells": [
    {
      "cell_type": "markdown",
      "metadata": {
        "id": "view-in-github",
        "colab_type": "text"
      },
      "source": [
        "<a href=\"https://colab.research.google.com/github/IamSVP94/NLP_project/blob/master/Sentiment_analysis_of_reviews_tonality_from_KinoPoisk.ipynb\" target=\"_parent\"><img src=\"https://colab.research.google.com/assets/colab-badge.svg\" alt=\"Open In Colab\"/></a>"
      ]
    },
    {
      "cell_type": "markdown",
      "metadata": {
        "id": "yaEcdm_rVoue",
        "colab_type": "text"
      },
      "source": [
        "# Sentiment analysis of reviews tonality from KinoPoisk"
      ]
    },
    {
      "cell_type": "markdown",
      "metadata": {
        "id": "FqCzq8DlVouh",
        "colab_type": "text"
      },
      "source": [
        "## Сбор данных"
      ]
    },
    {
      "cell_type": "markdown",
      "metadata": {
        "id": "E3qHHaNbVoui",
        "colab_type": "text"
      },
      "source": [
        "В качестве данных будут выступать отзывы на разные фильмы с сайта КиноПоиск"
      ]
    },
    {
      "cell_type": "code",
      "metadata": {
        "id": "uVJGKiL3V0Kn",
        "colab_type": "code",
        "colab": {
          "base_uri": "https://localhost:8080/",
          "height": 343
        },
        "outputId": "8686dfab-c3fd-4864-d379-35f5fba3b066"
      },
      "source": [
        "!pip install fake_useragent\n",
        "!pip install googletrans\n",
        "!pip install random"
      ],
      "execution_count": 14,
      "outputs": [
        {
          "output_type": "stream",
          "text": [
            "Requirement already satisfied: fake_useragent in /usr/local/lib/python3.6/dist-packages (0.1.11)\n",
            "Requirement already satisfied: googletrans in /usr/local/lib/python3.6/dist-packages (3.0.0)\n",
            "Requirement already satisfied: httpx==0.13.3 in /usr/local/lib/python3.6/dist-packages (from googletrans) (0.13.3)\n",
            "Requirement already satisfied: hstspreload in /usr/local/lib/python3.6/dist-packages (from httpx==0.13.3->googletrans) (2020.6.16)\n",
            "Requirement already satisfied: chardet==3.* in /usr/local/lib/python3.6/dist-packages (from httpx==0.13.3->googletrans) (3.0.4)\n",
            "Requirement already satisfied: rfc3986<2,>=1.3 in /usr/local/lib/python3.6/dist-packages (from httpx==0.13.3->googletrans) (1.4.0)\n",
            "Requirement already satisfied: idna==2.* in /usr/local/lib/python3.6/dist-packages (from httpx==0.13.3->googletrans) (2.9)\n",
            "Requirement already satisfied: sniffio in /usr/local/lib/python3.6/dist-packages (from httpx==0.13.3->googletrans) (1.1.0)\n",
            "Requirement already satisfied: httpcore==0.9.* in /usr/local/lib/python3.6/dist-packages (from httpx==0.13.3->googletrans) (0.9.1)\n",
            "Requirement already satisfied: certifi in /usr/local/lib/python3.6/dist-packages (from httpx==0.13.3->googletrans) (2020.4.5.2)\n",
            "Requirement already satisfied: contextvars>=2.1; python_version < \"3.7\" in /usr/local/lib/python3.6/dist-packages (from sniffio->httpx==0.13.3->googletrans) (2.4)\n",
            "Requirement already satisfied: h2==3.* in /usr/local/lib/python3.6/dist-packages (from httpcore==0.9.*->httpx==0.13.3->googletrans) (3.2.0)\n",
            "Requirement already satisfied: h11<0.10,>=0.8 in /usr/local/lib/python3.6/dist-packages (from httpcore==0.9.*->httpx==0.13.3->googletrans) (0.9.0)\n",
            "Requirement already satisfied: immutables>=0.9 in /usr/local/lib/python3.6/dist-packages (from contextvars>=2.1; python_version < \"3.7\"->sniffio->httpx==0.13.3->googletrans) (0.14)\n",
            "Requirement already satisfied: hpack<4,>=3.0 in /usr/local/lib/python3.6/dist-packages (from h2==3.*->httpcore==0.9.*->httpx==0.13.3->googletrans) (3.0.0)\n",
            "Requirement already satisfied: hyperframe<6,>=5.2.0 in /usr/local/lib/python3.6/dist-packages (from h2==3.*->httpcore==0.9.*->httpx==0.13.3->googletrans) (5.2.0)\n",
            "\u001b[31mERROR: Could not find a version that satisfies the requirement random (from versions: none)\u001b[0m\n",
            "\u001b[31mERROR: No matching distribution found for random\u001b[0m\n"
          ],
          "name": "stdout"
        }
      ]
    },
    {
      "cell_type": "code",
      "metadata": {
        "ExecuteTime": {
          "end_time": "2020-06-21T14:20:31.282298Z",
          "start_time": "2020-06-21T14:18:38.769300Z"
        },
        "id": "Vmw2sqdQVouj",
        "colab_type": "code",
        "colab": {}
      },
      "source": [
        "import time\n",
        "import os\n",
        "import random\n",
        "import requests\n",
        "from bs4 import BeautifulSoup\n",
        "import pandas as pd\n",
        "from fake_useragent import UserAgent\n",
        "from tqdm import tqdm\n",
        "import math\n",
        "import numpy as np\n",
        "import string\n",
        "import nltk\n",
        "from tensorflow.keras.preprocessing.text import Tokenizer\n",
        "import matplotlib.pyplot as plt\n",
        "from tensorflow.keras.preprocessing.sequence import pad_sequences\n",
        "from sklearn.model_selection import train_test_split\n",
        "from tensorflow.keras.models import Sequential\n",
        "from tensorflow.keras import layers as layer\n",
        "from tensorflow.keras.callbacks import ModelCheckpoint\n",
        "from tensorflow.keras import utils\n",
        "from googletrans import Translator as GT"
      ],
      "execution_count": 15,
      "outputs": []
    },
    {
      "cell_type": "code",
      "metadata": {
        "id": "0mS3DA55fEoJ",
        "colab_type": "code",
        "colab": {}
      },
      "source": [
        "# os.getcwd()\n",
        "# os.mkdir('Data')"
      ],
      "execution_count": 16,
      "outputs": []
    },
    {
      "cell_type": "code",
      "metadata": {
        "ExecuteTime": {
          "end_time": "2020-06-21T14:20:31.339271Z",
          "start_time": "2020-06-21T14:20:31.289300Z"
        },
        "code_folding": [],
        "id": "x-ZZvcN0Vouo",
        "colab_type": "code",
        "colab": {}
      },
      "source": [
        "'''\n",
        "Функция скачивает отзывы с КиноПоиска.\n",
        "Нужно еще доработать для настройки аргументов\n",
        "АРГУМЕНТЫ ФУНКЦИИ:\n",
        "reviews_count - если нужно ограничить кол-во отзывов всех видов (по умолч. скачивает все отзывы)\n",
        "review_type - если нужны отзывы определенного типа ['bad', 'good', 'neutral'] (по умолч. скачивает все типы отзывов)\n",
        "together - True, если нужно сохранить все отзывы в 1 файл (по умолч. False)\n",
        "download - True, если нужно скачивать отзывы\n",
        "'''\n",
        "def get_reviews_KinoPoisk(reviews_count=None, review_type=None, together=False, download=True):\n",
        "    \n",
        "    def download_reviews(df, reviews_type, together):  # сохраняет датафреймы в csv файлы\n",
        "        if together:  # если нужно сохранить все вместе\n",
        "            df.to_csv('Data/all_reviews.csv', index=False)\n",
        "        else:\n",
        "            df.to_csv('Data/'+str(reviews_type)+'_reviews.csv', index=False)\n",
        "\n",
        "\n",
        "    def kinopoisk_revs(rtype, reviews_count):  # тянет отзывы с КиноПоиска\n",
        "        rev_per_page = 200\n",
        "        base_url = 'https://www.kinopoisk.ru/reviews/type/comment/status/{0}/period/month/perpage/{1}/page/{2}/'\n",
        "        page_numb = 1\n",
        "        r_counter = reviews_count\n",
        "        # пустой дф для последующего добавления отзывов\n",
        "        rev_df = pd.DataFrame(columns=['review_text', 'review_type'])\n",
        "        while True:  # пока есть отзывы (выход из цикла с помощью break)\n",
        "            # если нужно ограничить кол-во отзывов\n",
        "            if reviews_count and math.ceil(r_counter/rev_per_page) < page_numb:\n",
        "                break\n",
        "            response = requests.get(base_url.format(rtype, rev_per_page, page_numb),\n",
        "                                    headers={'User-Agent': UserAgent().chrome})\n",
        "            assert response.status_code == 200, 'Код ответа сервера: {}'.format(\n",
        "                response.status_code)  # если сервер не доступен, то ошибка\n",
        "            # выгружаем страницу отзывов\n",
        "            soup = BeautifulSoup(response.text, 'html.parser')\n",
        "            reviews_texts = [tag.get_text(strip=True) for tag in soup.select(\n",
        "                '.brand_words span')]  # вычленяем отзывы по селектору\n",
        "            page_numb += 1  # итератор страниц\n",
        "            # если отзывов нет на странице, то выход из цикла (или если это уже лишние отзывы)\n",
        "            if not len(reviews_texts):\n",
        "                break            \n",
        "            rev_df = rev_df.append(pd.DataFrame({'review_text': reviews_texts, 'review_type': rtype}),\n",
        "                                   ignore_index=True)  # сохраняем все отзывы в датафрейм\n",
        "        if not reviews_count:\n",
        "            return rev_df\n",
        "        else:\n",
        "            if reviews_count > len(rev_df):\n",
        "                reviews_count = len(rev_df)\n",
        "            return rev_df.loc[0:reviews_count-1,:]\n",
        "\n",
        "\n",
        "    if isinstance(review_type, str):  # если указан тип нужных отзывов\n",
        "        rev_df = kinopoisk_revs(review_type, reviews_count)  # вытягиваем отзывы\n",
        "    else:\n",
        "        if not review_type:\n",
        "            review_type = ['neutral', 'good', 'bad']  # все варианты отзывов\n",
        "        iter_types = tqdm(review_type)  # для отображения прогресс-бара\n",
        "        if together:  # если нужены все отзывы в 1 датафрейме\n",
        "            common_df = pd.DataFrame(columns=['review_text', 'review_type'])\n",
        "        for rtype in iter_types:  # перебираем все виды отзывов\n",
        "            iter_types.set_description('Processing \"{}\" reviews'.format(\n",
        "                rtype), refresh=True)  # добавляем свое описание для прогресса\n",
        "            # Датафрейм с отзывами опред. типа\n",
        "            rev_df = kinopoisk_revs(rtype, reviews_count)\n",
        "            if together:\n",
        "                common_df = common_df.append(rev_df, ignore_index=True)\n",
        "        if together:\n",
        "            rev_df = common_df\n",
        "    if download:  # если нужно скачать отзывы\n",
        "        download_reviews(rev_df, rtype, together)\n",
        "    else:\n",
        "        return rev_df\n",
        "\n",
        "# get_reviews_KinoPoisk(download=True, together=True)"
      ],
      "execution_count": 17,
      "outputs": []
    },
    {
      "cell_type": "code",
      "metadata": {
        "ExecuteTime": {
          "end_time": "2020-06-21T14:20:32.437730Z",
          "start_time": "2020-06-21T14:20:31.342269Z"
        },
        "scrolled": false,
        "id": "ROJWAY77Vout",
        "colab_type": "code",
        "colab": {
          "base_uri": "https://localhost:8080/",
          "height": 419
        },
        "outputId": "d9c698cb-bcae-4ced-9763-eff9c22be0a1"
      },
      "source": [
        "KinoPoisk_df = pd.read_csv('Data/all_reviews.csv')\n",
        "KinoPoisk_df"
      ],
      "execution_count": 18,
      "outputs": [
        {
          "output_type": "execute_result",
          "data": {
            "text/html": [
              "<div>\n",
              "<style scoped>\n",
              "    .dataframe tbody tr th:only-of-type {\n",
              "        vertical-align: middle;\n",
              "    }\n",
              "\n",
              "    .dataframe tbody tr th {\n",
              "        vertical-align: top;\n",
              "    }\n",
              "\n",
              "    .dataframe thead th {\n",
              "        text-align: right;\n",
              "    }\n",
              "</style>\n",
              "<table border=\"1\" class=\"dataframe\">\n",
              "  <thead>\n",
              "    <tr style=\"text-align: right;\">\n",
              "      <th></th>\n",
              "      <th>review_text</th>\n",
              "      <th>review_type</th>\n",
              "    </tr>\n",
              "  </thead>\n",
              "  <tbody>\n",
              "    <tr>\n",
              "      <th>0</th>\n",
              "      <td>История про поэта Янониса сейчас может показат...</td>\n",
              "      <td>neutral</td>\n",
              "    </tr>\n",
              "    <tr>\n",
              "      <th>1</th>\n",
              "      <td>Вот казалось бы, есть главная героиня, о чьем ...</td>\n",
              "      <td>neutral</td>\n",
              "    </tr>\n",
              "    <tr>\n",
              "      <th>2</th>\n",
              "      <td>Все хорошо и изящно в этом фильме Витаутаса Жа...</td>\n",
              "      <td>neutral</td>\n",
              "    </tr>\n",
              "    <tr>\n",
              "      <th>3</th>\n",
              "      <td>Для Жалакявичуса, похоже, этот фильм был очень...</td>\n",
              "      <td>neutral</td>\n",
              "    </tr>\n",
              "    <tr>\n",
              "      <th>4</th>\n",
              "      <td>Название «Орел», довольно смущающее, но что по...</td>\n",
              "      <td>neutral</td>\n",
              "    </tr>\n",
              "    <tr>\n",
              "      <th>...</th>\n",
              "      <td>...</td>\n",
              "      <td>...</td>\n",
              "    </tr>\n",
              "    <tr>\n",
              "      <th>2458</th>\n",
              "      <td>Некомфортно, непонятно, противно, даже больно ...</td>\n",
              "      <td>bad</td>\n",
              "    </tr>\n",
              "    <tr>\n",
              "      <th>2459</th>\n",
              "      <td>Военная фантастика, клюква, не имеющая никакой...</td>\n",
              "      <td>bad</td>\n",
              "    </tr>\n",
              "    <tr>\n",
              "      <th>2460</th>\n",
              "      <td>С лирической линией явный перебор. На выходе: ...</td>\n",
              "      <td>bad</td>\n",
              "    </tr>\n",
              "    <tr>\n",
              "      <th>2461</th>\n",
              "      <td>Почему фильм называется «Джульбарс» не ясно. Н...</td>\n",
              "      <td>bad</td>\n",
              "    </tr>\n",
              "    <tr>\n",
              "      <th>2462</th>\n",
              "      <td>Сюжет первых четырёх серий наивен, как не знаю...</td>\n",
              "      <td>bad</td>\n",
              "    </tr>\n",
              "  </tbody>\n",
              "</table>\n",
              "<p>2463 rows × 2 columns</p>\n",
              "</div>"
            ],
            "text/plain": [
              "                                            review_text review_type\n",
              "0     История про поэта Янониса сейчас может показат...     neutral\n",
              "1     Вот казалось бы, есть главная героиня, о чьем ...     neutral\n",
              "2     Все хорошо и изящно в этом фильме Витаутаса Жа...     neutral\n",
              "3     Для Жалакявичуса, похоже, этот фильм был очень...     neutral\n",
              "4     Название «Орел», довольно смущающее, но что по...     neutral\n",
              "...                                                 ...         ...\n",
              "2458  Некомфортно, непонятно, противно, даже больно ...         bad\n",
              "2459  Военная фантастика, клюква, не имеющая никакой...         bad\n",
              "2460  С лирической линией явный перебор. На выходе: ...         bad\n",
              "2461  Почему фильм называется «Джульбарс» не ясно. Н...         bad\n",
              "2462  Сюжет первых четырёх серий наивен, как не знаю...         bad\n",
              "\n",
              "[2463 rows x 2 columns]"
            ]
          },
          "metadata": {
            "tags": []
          },
          "execution_count": 18
        }
      ]
    },
    {
      "cell_type": "markdown",
      "metadata": {
        "id": "rWXb28arVouz",
        "colab_type": "text"
      },
      "source": [
        "## Выделение тестовой выборки"
      ]
    },
    {
      "cell_type": "code",
      "metadata": {
        "ExecuteTime": {
          "end_time": "2020-06-21T14:20:32.556026Z",
          "start_time": "2020-06-21T14:20:32.441727Z"
        },
        "id": "1SnViP-cVou0",
        "colab_type": "code",
        "colab": {}
      },
      "source": [
        "# разбили на тренировочную и тестовую выборку\n",
        "X, X_test, y, y_test = train_test_split(KinoPoisk_df['review_text'], \n",
        "                                        KinoPoisk_df['review_type'],\n",
        "                                        test_size=0.1, \n",
        "                                        random_state=2, \n",
        "                                        shuffle=True, \n",
        "                                        stratify=KinoPoisk_df['review_type'])"
      ],
      "execution_count": 55,
      "outputs": []
    },
    {
      "cell_type": "code",
      "metadata": {
        "ExecuteTime": {
          "end_time": "2020-06-21T14:20:32.624985Z",
          "start_time": "2020-06-21T14:20:32.561023Z"
        },
        "id": "W3ZoloTwVou5",
        "colab_type": "code",
        "colab": {
          "base_uri": "https://localhost:8080/",
          "height": 34
        },
        "outputId": "6edaaaab-64b3-44ea-bbbd-cd1e67f3611f"
      },
      "source": [
        "len(X), len(X_test)"
      ],
      "execution_count": 56,
      "outputs": [
        {
          "output_type": "execute_result",
          "data": {
            "text/plain": [
              "(2719, 303)"
            ]
          },
          "metadata": {
            "tags": []
          },
          "execution_count": 56
        }
      ]
    },
    {
      "cell_type": "markdown",
      "metadata": {
        "id": "RTAJX-KgVou-",
        "colab_type": "text"
      },
      "source": [
        "## Первичный анализ"
      ]
    },
    {
      "cell_type": "markdown",
      "metadata": {
        "id": "_UF0LMmLVou_",
        "colab_type": "text"
      },
      "source": [
        "На первый взгляд сразу вырисовываются очевидные проблемы:\n",
        "- Необработанные отзывы (со знаками препинания, символами разметки и т.п.);\n",
        "- Разный размер отзывов;\n",
        "- Несбалансированная выборка;\n",
        "- Три категории."
      ]
    },
    {
      "cell_type": "code",
      "metadata": {
        "ExecuteTime": {
          "end_time": "2020-06-21T14:20:32.796022Z",
          "start_time": "2020-06-21T14:20:32.627982Z"
        },
        "id": "lJnuZkdcVovA",
        "colab_type": "code",
        "colab": {
          "base_uri": "https://localhost:8080/",
          "height": 54
        },
        "outputId": "22989364-1183-4f79-8911-d71e51dcc416"
      },
      "source": [
        "X[0][:200]+'...'"
      ],
      "execution_count": 57,
      "outputs": [
        {
          "output_type": "execute_result",
          "data": {
            "text/plain": [
              "'Данный фильм мне\\xa0порекомендовала мама. Также следует наверное отметить тот\\xa0факт, что\\xa0моя собственная семья очень похожа на\\xa0семейство из\\xa0этого фильма: у\\xa0меня есть сестра, которая является счастливой же...'"
            ]
          },
          "metadata": {
            "tags": []
          },
          "execution_count": 57
        }
      ]
    },
    {
      "cell_type": "code",
      "metadata": {
        "ExecuteTime": {
          "end_time": "2020-06-21T14:20:32.932125Z",
          "start_time": "2020-06-21T14:20:32.799019Z"
        },
        "id": "wklxloCWVovG",
        "colab_type": "code",
        "colab": {
          "base_uri": "https://localhost:8080/",
          "height": 34
        },
        "outputId": "3a553fc8-13d7-45cf-c549-51006877d545"
      },
      "source": [
        "len(X[0]), \\\n",
        "len(X[1]), \\"
      ],
      "execution_count": 58,
      "outputs": [
        {
          "output_type": "execute_result",
          "data": {
            "text/plain": [
              "(2081, 2576)"
            ]
          },
          "metadata": {
            "tags": []
          },
          "execution_count": 58
        }
      ]
    },
    {
      "cell_type": "code",
      "metadata": {
        "ExecuteTime": {
          "end_time": "2020-06-21T14:20:33.216989Z",
          "start_time": "2020-06-21T14:20:32.944123Z"
        },
        "id": "ruaIkYQiVovT",
        "colab_type": "code",
        "colab": {
          "base_uri": "https://localhost:8080/",
          "height": 68
        },
        "outputId": "32b53f3a-5586-473d-a95c-1b571eaaf517"
      },
      "source": [
        "for t in y.unique():\n",
        "    rev_count = len(y[y==t])\n",
        "    print(t, rev_count, '-', round(rev_count/len(X)*100, 2), '%')"
      ],
      "execution_count": 59,
      "outputs": [
        {
          "output_type": "stream",
          "text": [
            "good 1269 - 46.67 %\n",
            "bad 730 - 26.85 %\n",
            "neutral 720 - 26.48 %\n"
          ],
          "name": "stdout"
        }
      ]
    },
    {
      "cell_type": "markdown",
      "metadata": {
        "id": "eeNHp8RkVovX",
        "colab_type": "text"
      },
      "source": [
        "## Аугментация данных"
      ]
    },
    {
      "cell_type": "markdown",
      "metadata": {
        "id": "SRUa7muRVovY",
        "colab_type": "text"
      },
      "source": [
        "Так как позитивных отзывов у нас больше, чем всех остальных, то наша модель при постоянной выдаче результата \"good\", будет достигать точности предсказания класса почти в 64%.<br>\n",
        "Для устранения подобной проблемы, попробуем сгенерировать отзывы из оставшихся категорий."
      ]
    },
    {
      "cell_type": "code",
      "metadata": {
        "ExecuteTime": {
          "end_time": "2020-06-21T14:20:33.358513Z",
          "start_time": "2020-06-21T14:20:33.219986Z"
        },
        "id": "isjGQzzrVovZ",
        "colab_type": "code",
        "colab": {}
      },
      "source": [
        "def review_augmentator(phrase): # делает 2-ной перевод предложения и возвращает дубликат\n",
        "    langs = ['de', 'es', 'pt', 'it', 'fr', 'ar', 'vi', 'ja', 'en']\n",
        "    lang_sel = random.choices(langs)[0]\n",
        "    from_ru = GT().translate(phrase, src='ru', dest=lang_sel).text\n",
        "    to_ru = GT().translate(from_ru, src=lang_sel, dest='ru').text\n",
        "    return {'text': to_ru, 'lang': lang_sel}    \n",
        "\n",
        "def df_foreign_dublicator(df, y, types=None):\n",
        "    df = df.reset_index(drop=True)\n",
        "    y = y.reset_index(drop=True)\n",
        "    if not types:\n",
        "        types = y.unique()\n",
        "    for rtype in types:\n",
        "        rtype_indx_list = []\n",
        "        for i,el in enumerate(y):\n",
        "            if el == rtype:\n",
        "                rtype_indx_list.append(i)\n",
        "        iter_indx = tqdm(rtype_indx_list)\n",
        "        for i in iter_indx:\n",
        "            augmentator = review_augmentator(df[i])\n",
        "            iter_indx.set_description('type: \"{}\"; lang: \"ru-{}-ru\" '.format(rtype, augmentator['lang']), refresh=True)\n",
        "            df = df.append(pd.Series(augmentator['text']), ignore_index=True)\n",
        "            y = y.append(pd.Series(rtype), ignore_index=True)\n",
        "            \n",
        "    return (df, y)\n",
        "\n",
        "# X, y = df_foreign_dublicator(X, y, types=['bad', 'neutral'])\n",
        "# pd.concat([X, y], axis=1, ignore_index=True).to_csv('Data/after_augmentation.csv', index=False, header=['review_text', 'review_type'])"
      ],
      "execution_count": 60,
      "outputs": []
    },
    {
      "cell_type": "code",
      "metadata": {
        "ExecuteTime": {
          "end_time": "2020-06-21T14:20:34.450775Z",
          "start_time": "2020-06-21T14:20:33.365496Z"
        },
        "id": "84GvqmYjVovc",
        "colab_type": "code",
        "colab": {
          "base_uri": "https://localhost:8080/",
          "height": 419
        },
        "outputId": "5de400c9-649b-41ac-d024-5b8764433d5e"
      },
      "source": [
        "KinoPoisk_df = pd.read_csv('Data/after_augmentation.csv')\n",
        "KinoPoisk_df"
      ],
      "execution_count": 61,
      "outputs": [
        {
          "output_type": "execute_result",
          "data": {
            "text/html": [
              "<div>\n",
              "<style scoped>\n",
              "    .dataframe tbody tr th:only-of-type {\n",
              "        vertical-align: middle;\n",
              "    }\n",
              "\n",
              "    .dataframe tbody tr th {\n",
              "        vertical-align: top;\n",
              "    }\n",
              "\n",
              "    .dataframe thead th {\n",
              "        text-align: right;\n",
              "    }\n",
              "</style>\n",
              "<table border=\"1\" class=\"dataframe\">\n",
              "  <thead>\n",
              "    <tr style=\"text-align: right;\">\n",
              "      <th></th>\n",
              "      <th>review_text</th>\n",
              "      <th>review_type</th>\n",
              "    </tr>\n",
              "  </thead>\n",
              "  <tbody>\n",
              "    <tr>\n",
              "      <th>0</th>\n",
              "      <td>Данный фильм мне порекомендовала мама. Также с...</td>\n",
              "      <td>good</td>\n",
              "    </tr>\n",
              "    <tr>\n",
              "      <th>1</th>\n",
              "      <td>«Лара Крофт» (2018) — ремейк и новый взгляд на...</td>\n",
              "      <td>bad</td>\n",
              "    </tr>\n",
              "    <tr>\n",
              "      <th>2</th>\n",
              "      <td>Думаю никто не будет спорить с тем, что «Смерт...</td>\n",
              "      <td>good</td>\n",
              "    </tr>\n",
              "    <tr>\n",
              "      <th>3</th>\n",
              "      <td>Посмотрела, не поленилась. Зачем? — Не знаю. Я...</td>\n",
              "      <td>bad</td>\n",
              "    </tr>\n",
              "    <tr>\n",
              "      <th>4</th>\n",
              "      <td>Первое и самое главное — фильм не удался.Нет о...</td>\n",
              "      <td>bad</td>\n",
              "    </tr>\n",
              "    <tr>\n",
              "      <th>...</th>\n",
              "      <td>...</td>\n",
              "      <td>...</td>\n",
              "    </tr>\n",
              "    <tr>\n",
              "      <th>3017</th>\n",
              "      <td>1. Прежде всего, важно отметить, что это грубы...</td>\n",
              "      <td>neutral</td>\n",
              "    </tr>\n",
              "    <tr>\n",
              "      <th>3018</th>\n",
              "      <td>«Трансформеры» для меня давно превратились во ...</td>\n",
              "      <td>neutral</td>\n",
              "    </tr>\n",
              "    <tr>\n",
              "      <th>3019</th>\n",
              "      <td>Экстремально попсовый мультик! Скроенный целик...</td>\n",
              "      <td>neutral</td>\n",
              "    </tr>\n",
              "    <tr>\n",
              "      <th>3020</th>\n",
              "      <td>Увидев, Дюнкерк оставляет двойную эмоцию. С од...</td>\n",
              "      <td>neutral</td>\n",
              "    </tr>\n",
              "    <tr>\n",
              "      <th>3021</th>\n",
              "      <td>Братья и сестры жили в одном королевстве. У ни...</td>\n",
              "      <td>neutral</td>\n",
              "    </tr>\n",
              "  </tbody>\n",
              "</table>\n",
              "<p>3022 rows × 2 columns</p>\n",
              "</div>"
            ],
            "text/plain": [
              "                                            review_text review_type\n",
              "0     Данный фильм мне порекомендовала мама. Также с...        good\n",
              "1     «Лара Крофт» (2018) — ремейк и новый взгляд на...         bad\n",
              "2     Думаю никто не будет спорить с тем, что «Смерт...        good\n",
              "3     Посмотрела, не поленилась. Зачем? — Не знаю. Я...         bad\n",
              "4     Первое и самое главное — фильм не удался.Нет о...         bad\n",
              "...                                                 ...         ...\n",
              "3017  1. Прежде всего, важно отметить, что это грубы...     neutral\n",
              "3018  «Трансформеры» для меня давно превратились во ...     neutral\n",
              "3019  Экстремально попсовый мультик! Скроенный целик...     neutral\n",
              "3020  Увидев, Дюнкерк оставляет двойную эмоцию. С од...     neutral\n",
              "3021  Братья и сестры жили в одном королевстве. У ни...     neutral\n",
              "\n",
              "[3022 rows x 2 columns]"
            ]
          },
          "metadata": {
            "tags": []
          },
          "execution_count": 61
        }
      ]
    },
    {
      "cell_type": "code",
      "metadata": {
        "ExecuteTime": {
          "end_time": "2020-06-21T14:20:34.461770Z",
          "start_time": "2020-06-21T14:20:34.455775Z"
        },
        "id": "jUA9RwqEVovi",
        "colab_type": "code",
        "colab": {}
      },
      "source": [
        "X = KinoPoisk_df['review_text']\n",
        "y = KinoPoisk_df['review_type']"
      ],
      "execution_count": 62,
      "outputs": []
    },
    {
      "cell_type": "code",
      "metadata": {
        "ExecuteTime": {
          "end_time": "2020-06-21T14:20:34.632696Z",
          "start_time": "2020-06-21T14:20:34.464768Z"
        },
        "id": "1uwU8xbQVovo",
        "colab_type": "code",
        "colab": {
          "base_uri": "https://localhost:8080/",
          "height": 68
        },
        "outputId": "906b8535-2087-47dc-feab-78307b01b2fe"
      },
      "source": [
        "for t in y.unique():\n",
        "    rev_count = len(y[y==t])\n",
        "    print(t, rev_count, '-', round(rev_count/len(X)*100, 2), '%')"
      ],
      "execution_count": 63,
      "outputs": [
        {
          "output_type": "stream",
          "text": [
            "good 1410 - 46.66 %\n",
            "bad 812 - 26.87 %\n",
            "neutral 800 - 26.47 %\n"
          ],
          "name": "stdout"
        }
      ]
    },
    {
      "cell_type": "markdown",
      "metadata": {
        "id": "ec7hbg6yVovr",
        "colab_type": "text"
      },
      "source": [
        "### Предобработка"
      ]
    },
    {
      "cell_type": "code",
      "metadata": {
        "ExecuteTime": {
          "end_time": "2020-06-21T14:20:34.791770Z",
          "start_time": "2020-06-21T14:20:34.637693Z"
        },
        "id": "Bv-WnJQ1Vovs",
        "colab_type": "code",
        "colab": {}
      },
      "source": [
        "# удаление знаков препинания, замена Заглавных букв строчными, исправление пробелов\n",
        "def sentence_preprocessor(sentence):\n",
        "    sentece = sentence.replace('\\xa0', ' ').replace('.', ' ').replace('—', ' ').replace('  ', ' ').lower()\n",
        "    sentece = ''.join(ch for ch in sentece if ch not in set(string.punctuation))\n",
        "    return sentece"
      ],
      "execution_count": 64,
      "outputs": []
    },
    {
      "cell_type": "code",
      "metadata": {
        "ExecuteTime": {
          "end_time": "2020-06-21T14:20:34.986861Z",
          "start_time": "2020-06-21T14:20:34.794767Z"
        },
        "id": "S3SrVm0eVovw",
        "colab_type": "code",
        "colab": {
          "base_uri": "https://localhost:8080/",
          "height": 68
        },
        "outputId": "4ae9606d-46a2-47d3-cb17-207e3234dfca"
      },
      "source": [
        "nltk.download('stopwords')"
      ],
      "execution_count": 65,
      "outputs": [
        {
          "output_type": "stream",
          "text": [
            "[nltk_data] Downloading package stopwords to /root/nltk_data...\n",
            "[nltk_data]   Package stopwords is already up-to-date!\n"
          ],
          "name": "stdout"
        },
        {
          "output_type": "execute_result",
          "data": {
            "text/plain": [
              "True"
            ]
          },
          "metadata": {
            "tags": []
          },
          "execution_count": 65
        }
      ]
    },
    {
      "cell_type": "code",
      "metadata": {
        "ExecuteTime": {
          "end_time": "2020-06-21T14:20:35.239755Z",
          "start_time": "2020-06-21T14:20:34.988836Z"
        },
        "id": "F-lq0H7UVov2",
        "colab_type": "code",
        "colab": {}
      },
      "source": [
        "stop_words= nltk.corpus.stopwords.words('russian')\n",
        "def stopwords_deleter(sentence): # удаляет стоп-слова из предложения\n",
        "    splits = sentence.split()\n",
        "    for word in splits:\n",
        "        if word in stop_words:\n",
        "            splits.remove(word)\n",
        "    return ' '.join(splits)"
      ],
      "execution_count": 66,
      "outputs": []
    },
    {
      "cell_type": "code",
      "metadata": {
        "ExecuteTime": {
          "end_time": "2020-06-21T14:20:49.496499Z",
          "start_time": "2020-06-21T14:20:35.241754Z"
        },
        "id": "xCFNaqcDVov6",
        "colab_type": "code",
        "colab": {}
      },
      "source": [
        "# удаляем стоп-слова и приводим строки в порядок\n",
        "X = pd.Series([stopwords_deleter(sentence_preprocessor(sentence)) for sentence in KinoPoisk_df['review_text']])\n",
        "# кодируем целевую переменную в формате one hot encoding\n",
        "y = utils.to_categorical([0 if mark=='bad' else (1 if mark=='neutral' else 2) for mark in KinoPoisk_df['review_type']], len(KinoPoisk_df['review_type'].unique()))"
      ],
      "execution_count": 67,
      "outputs": []
    },
    {
      "cell_type": "markdown",
      "metadata": {
        "id": "pfU4cV5vVowB",
        "colab_type": "text"
      },
      "source": [
        "### Токенизация"
      ]
    },
    {
      "cell_type": "code",
      "metadata": {
        "ExecuteTime": {
          "end_time": "2020-06-21T14:20:49.509467Z",
          "start_time": "2020-06-21T14:20:49.498472Z"
        },
        "id": "5I7yFG0CVowC",
        "colab_type": "code",
        "colab": {}
      },
      "source": [
        "tokenizer = Tokenizer(num_words=10000)"
      ],
      "execution_count": 68,
      "outputs": []
    },
    {
      "cell_type": "code",
      "metadata": {
        "ExecuteTime": {
          "end_time": "2020-06-21T14:20:51.935916Z",
          "start_time": "2020-06-21T14:20:49.520459Z"
        },
        "id": "9GBHE8a-VowG",
        "colab_type": "code",
        "colab": {}
      },
      "source": [
        "tokenizer.fit_on_texts(X)"
      ],
      "execution_count": 69,
      "outputs": []
    },
    {
      "cell_type": "code",
      "metadata": {
        "ExecuteTime": {
          "end_time": "2020-06-21T14:20:51.959906Z",
          "start_time": "2020-06-21T14:20:51.937920Z"
        },
        "id": "oTvN6bmyVowJ",
        "colab_type": "code",
        "colab": {
          "base_uri": "https://localhost:8080/",
          "height": 34
        },
        "outputId": "681b5d2d-cea1-481f-fccb-1a99ee8c8964"
      },
      "source": [
        "len(tokenizer.word_index), \\\n",
        "# tokenizer.word_index"
      ],
      "execution_count": 70,
      "outputs": [
        {
          "output_type": "execute_result",
          "data": {
            "text/plain": [
              "(114710,)"
            ]
          },
          "metadata": {
            "tags": []
          },
          "execution_count": 70
        }
      ]
    },
    {
      "cell_type": "code",
      "metadata": {
        "ExecuteTime": {
          "end_time": "2020-06-21T14:21:03.949641Z",
          "start_time": "2020-06-21T14:20:51.967904Z"
        },
        "id": "yKVFhEwDVowN",
        "colab_type": "code",
        "colab": {
          "base_uri": "https://localhost:8080/",
          "height": 34
        },
        "outputId": "202da11b-a274-4cda-dbc5-102aef201cf0"
      },
      "source": [
        "words_count_mean = []\n",
        "for sentence in X:\n",
        "    words_count_mean.append(\n",
        "        len( (stopwords_deleter(sentence_preprocessor(sentence))).split() )\n",
        "    )\n",
        "num_words = math.ceil(np.mean(words_count_mean))\n",
        "num_words"
      ],
      "execution_count": 71,
      "outputs": [
        {
          "output_type": "execute_result",
          "data": {
            "text/plain": [
              "257"
            ]
          },
          "metadata": {
            "tags": []
          },
          "execution_count": 71
        }
      ]
    },
    {
      "cell_type": "markdown",
      "metadata": {
        "id": "vYg85tkFVowQ",
        "colab_type": "text"
      },
      "source": [
        "В среднем отзыв состоит из 257 слов."
      ]
    },
    {
      "cell_type": "code",
      "metadata": {
        "ExecuteTime": {
          "end_time": "2020-06-21T14:21:05.614984Z",
          "start_time": "2020-06-21T14:21:03.953635Z"
        },
        "id": "vjQlTYu2VowR",
        "colab_type": "code",
        "colab": {}
      },
      "source": [
        "sequences = tokenizer.texts_to_sequences(X)"
      ],
      "execution_count": 72,
      "outputs": []
    },
    {
      "cell_type": "code",
      "metadata": {
        "ExecuteTime": {
          "end_time": "2020-06-21T14:21:05.623979Z",
          "start_time": "2020-06-21T14:21:05.616981Z"
        },
        "id": "AdxSUv8VVowV",
        "colab_type": "code",
        "colab": {
          "base_uri": "https://localhost:8080/",
          "height": 88
        },
        "outputId": "0917be19-528a-43db-87a4-c633ff5d2622"
      },
      "source": [
        "print(X[0], end='\\n\\n')\n",
        "print(sequences[0], len(sequences[0]))"
      ],
      "execution_count": 73,
      "outputs": [
        {
          "output_type": "stream",
          "text": [
            "данный фильм порекомендовала мама также следует наверное отметить факт моя собственная семья очень похожа семейство фильма меня сестра которая является счастливой женой мамой легкомысленная неприкаянная первых минут головой погрузилась атмосферу наблюдала событиями экране буквально первого лица возможно именно поэтому воспринимала события близко сердцу была объективна оценке этого фильма однако говоря откровенно ктото бывает объективен выставляя оценку чемулибоданную картину бы отнесла остросоциальной тематике ней раскрывается животрепещущий вопрос эвтаназия также заставляет задуматься пересмотреть свое мнение множестве вещей семья отношения мужчиной женщиной измены наркотики любовь родной земле жажда жизни вопросы волновали волнуют множество людей всему свету будут актуальны все времена скандинавское кино стало меня открытием совсем недавно однако хочется отметить такие элементы высокая кинематографичность невероятно красивая визуализация каждый кадр практически высокохудожественное фото отличный кастинг продуманный сценарий глубокие идеи проходящие сквозь картину красным пунктиром несмотря печальный лейтмотив кино довольно часто дает зрителю повод улыбнуться даже посмеяться голос некоторыми ситуациями диалогами любой человек которого есть большая семья сможет узнать одном героев в целом бы сказала фильму удается сочетать несочетаемое комбинируя психологическую драму с элементами семейного кино социальной сатирой делая это очень умело ненавязчиво рекомендую просмотру зрителям которые также считают что фильм должен иметь смысловую нагрузку оставлять вопросы поднимать дна души скрытые чувства эмоции практически не плачу изза фильмов при просмотре «тихого сердца» ревела маленькая девочка просмотра фильм подарил моему сердцу тишину и покой 10 10\n",
            "\n",
            "[246, 4, 2294, 35, 698, 388, 396, 535, 3996, 870, 7, 2337, 8, 89, 3105, 39, 69, 4723, 1344, 5724, 343, 285, 2078, 445, 1896, 116, 453, 472, 590, 121, 33, 49, 273, 2248, 7115, 553, 9526, 109, 8, 45, 287, 381, 290, 785, 1586, 389, 30, 8192, 278, 1671, 250, 35, 736, 1297, 2295, 266, 666, 1482, 870, 274, 2809, 2249, 4931, 5174, 234, 3353, 1328, 7116, 26, 434, 802, 47, 506, 7117, 344, 6708, 20, 871, 21, 413, 89, 6014, 419, 1329, 45, 156, 396, 154, 1381, 704, 1273, 113, 1642, 196, 3609, 1095, 6346, 9527, 216, 3106, 642, 2008, 389, 169, 21, 96, 347, 812, 291, 4724, 9528, 34, 3717, 1778, 4725, 7633, 2296, 577, 75, 103, 51, 821, 870, 1039, 803, 439, 42, 3, 151, 30, 2631, 303, 2451, 7118, 1148, 27, 1587, 3997, 21, 2043, 1696, 1, 7, 1643, 580, 654, 967, 12, 35, 2452, 6, 4, 284, 1588, 434, 8193, 9529, 968, 511, 456, 196, 2, 78, 117, 226, 676, 3107, 1424, 80, 4, 5175, 1382, 7115, 5, 8792, 14, 14] 177\n"
          ],
          "name": "stdout"
        }
      ]
    },
    {
      "cell_type": "code",
      "metadata": {
        "ExecuteTime": {
          "end_time": "2020-06-21T14:21:05.840003Z",
          "start_time": "2020-06-21T14:21:05.630972Z"
        },
        "id": "lAMiF7LSVowZ",
        "colab_type": "code",
        "colab": {}
      },
      "source": [
        "X = pad_sequences(sequences, maxlen=num_words)"
      ],
      "execution_count": 74,
      "outputs": []
    },
    {
      "cell_type": "code",
      "metadata": {
        "ExecuteTime": {
          "end_time": "2020-06-21T14:21:05.989087Z",
          "start_time": "2020-06-21T14:21:05.845000Z"
        },
        "id": "nv0DRJjEVowb",
        "colab_type": "code",
        "colab": {
          "base_uri": "https://localhost:8080/",
          "height": 425
        },
        "outputId": "82678d5e-0cf0-4d08-f31f-9179223fb1ee"
      },
      "source": [
        "len(X[0]), X[0]"
      ],
      "execution_count": 75,
      "outputs": [
        {
          "output_type": "execute_result",
          "data": {
            "text/plain": [
              "(257, array([   0,    0,    0,    0,    0,    0,    0,    0,    0,    0,    0,\n",
              "           0,    0,    0,    0,    0,    0,    0,    0,    0,    0,    0,\n",
              "           0,    0,    0,    0,    0,    0,    0,    0,    0,    0,    0,\n",
              "           0,    0,    0,    0,    0,    0,    0,    0,    0,    0,    0,\n",
              "           0,    0,    0,    0,    0,    0,    0,    0,    0,    0,    0,\n",
              "           0,    0,    0,    0,    0,    0,    0,    0,    0,    0,    0,\n",
              "           0,    0,    0,    0,    0,    0,    0,    0,    0,    0,    0,\n",
              "           0,    0,    0,  246,    4, 2294,   35,  698,  388,  396,  535,\n",
              "        3996,  870,    7, 2337,    8,   89, 3105,   39,   69, 4723, 1344,\n",
              "        5724,  343,  285, 2078,  445, 1896,  116,  453,  472,  590,  121,\n",
              "          33,   49,  273, 2248, 7115,  553, 9526,  109,    8,   45,  287,\n",
              "         381,  290,  785, 1586,  389,   30, 8192,  278, 1671,  250,   35,\n",
              "         736, 1297, 2295,  266,  666, 1482,  870,  274, 2809, 2249, 4931,\n",
              "        5174,  234, 3353, 1328, 7116,   26,  434,  802,   47,  506, 7117,\n",
              "         344, 6708,   20,  871,   21,  413,   89, 6014,  419, 1329,   45,\n",
              "         156,  396,  154, 1381,  704, 1273,  113, 1642,  196, 3609, 1095,\n",
              "        6346, 9527,  216, 3106,  642, 2008,  389,  169,   21,   96,  347,\n",
              "         812,  291, 4724, 9528,   34, 3717, 1778, 4725, 7633, 2296,  577,\n",
              "          75,  103,   51,  821,  870, 1039,  803,  439,   42,    3,  151,\n",
              "          30, 2631,  303, 2451, 7118, 1148,   27, 1587, 3997,   21, 2043,\n",
              "        1696,    1,    7, 1643,  580,  654,  967,   12,   35, 2452,    6,\n",
              "           4,  284, 1588,  434, 8193, 9529,  968,  511,  456,  196,    2,\n",
              "          78,  117,  226,  676, 3107, 1424,   80,    4, 5175, 1382, 7115,\n",
              "           5, 8792,   14,   14], dtype=int32))"
            ]
          },
          "metadata": {
            "tags": []
          },
          "execution_count": 75
        }
      ]
    },
    {
      "cell_type": "markdown",
      "metadata": {
        "id": "DgYmThrvVowf",
        "colab_type": "text"
      },
      "source": [
        "### Выделение отложенной выборки"
      ]
    },
    {
      "cell_type": "code",
      "metadata": {
        "ExecuteTime": {
          "end_time": "2020-06-21T14:21:06.184938Z",
          "start_time": "2020-06-21T14:21:05.992078Z"
        },
        "id": "hRXiOExtVowg",
        "colab_type": "code",
        "colab": {}
      },
      "source": [
        "# выделили отложенную выборку\n",
        "X_train, X_val, y_train, y_val = train_test_split(X, y, test_size=0.1, random_state=2, shuffle=True, stratify=y)"
      ],
      "execution_count": 76,
      "outputs": []
    },
    {
      "cell_type": "markdown",
      "metadata": {
        "id": "dOXlKM6FVowj",
        "colab_type": "text"
      },
      "source": [
        "## Создание модели"
      ]
    },
    {
      "cell_type": "code",
      "metadata": {
        "ExecuteTime": {
          "end_time": "2020-06-21T14:21:06.315145Z",
          "start_time": "2020-06-21T14:21:06.186930Z"
        },
        "scrolled": true,
        "id": "PtQYr-YqVowk",
        "colab_type": "code",
        "colab": {
          "base_uri": "https://localhost:8080/",
          "height": 34
        },
        "outputId": "4f5de3aa-aa1e-4467-9f62-164255b68e38"
      },
      "source": [
        "len(X_train), len(X_val), len(X_test)"
      ],
      "execution_count": 77,
      "outputs": [
        {
          "output_type": "execute_result",
          "data": {
            "text/plain": [
              "(2719, 303, 303)"
            ]
          },
          "metadata": {
            "tags": []
          },
          "execution_count": 77
        }
      ]
    },
    {
      "cell_type": "markdown",
      "metadata": {
        "id": "VJVeyyc9Vown",
        "colab_type": "text"
      },
      "source": [
        "### Сверточная нейросеть"
      ]
    },
    {
      "cell_type": "code",
      "metadata": {
        "ExecuteTime": {
          "end_time": "2020-06-21T14:21:07.913601Z",
          "start_time": "2020-06-21T14:21:06.324140Z"
        },
        "code_folding": [],
        "id": "3rXr2PSbVown",
        "colab_type": "code",
        "colab": {}
      },
      "source": [
        "first_model = Sequential([\n",
        "    layer.Embedding(15000, 512, input_length=num_words),\n",
        "    layer.Dropout(0.2),\n",
        "    layer.Conv1D(128, 5, padding='valid', activation='relu'),\n",
        "    layer.Dropout(0.2),\n",
        "    layer.Flatten(),\n",
        "    layer.Dense(3, activation='softmax')\n",
        "])\n",
        "\n",
        "first_model.compile(optimizer='adam',\n",
        "                    loss='categorical_crossentropy',\n",
        "                    metrics=['mae', 'categorical_accuracy', 'accuracy'])\n",
        "\n",
        "first_model_path = 'first_best_model.h5'\n",
        "checkpoint_first_model = ModelCheckpoint('Data/{}'.format(first_model_path),\n",
        "                                         monitor='val_accuracy',\n",
        "                                         save_best_only=True, verbose=True)"
      ],
      "execution_count": 44,
      "outputs": []
    },
    {
      "cell_type": "code",
      "metadata": {
        "ExecuteTime": {
          "start_time": "2020-06-21T14:18:39.629Z"
        },
        "code_folding": [],
        "scrolled": true,
        "id": "XLSL_Y3qVowr",
        "colab_type": "code",
        "colab": {
          "base_uri": "https://localhost:8080/",
          "height": 1000
        },
        "outputId": "02e2c81b-0bc6-4382-a160-cf6194535281"
      },
      "source": [
        "history_first_model = first_model.fit(X_train, \n",
        "                                      y_train, \n",
        "                                      epochs=15, \n",
        "                                      batch_size=400, \n",
        "                                      validation_data=(X_val, y_val),\n",
        "                                      callbacks=[checkpoint_first_model],\n",
        "                                     )"
      ],
      "execution_count": 45,
      "outputs": [
        {
          "output_type": "stream",
          "text": [
            "Epoch 1/15\n",
            "7/7 [==============================] - ETA: 0s - loss: 1.0886 - mae: 0.4282 - categorical_accuracy: 0.4638 - accuracy: 0.4638\n",
            "Epoch 00001: val_accuracy improved from -inf to 0.50165, saving model to Data/first_best_model.h5\n",
            "7/7 [==============================] - 31s 4s/step - loss: 1.0886 - mae: 0.4282 - categorical_accuracy: 0.4638 - accuracy: 0.4638 - val_loss: 1.0582 - val_mae: 0.4338 - val_categorical_accuracy: 0.5017 - val_accuracy: 0.5017\n",
            "Epoch 2/15\n",
            "7/7 [==============================] - ETA: 0s - loss: 0.9701 - mae: 0.4026 - categorical_accuracy: 0.4983 - accuracy: 0.4983\n",
            "Epoch 00002: val_accuracy did not improve from 0.50165\n",
            "7/7 [==============================] - 30s 4s/step - loss: 0.9701 - mae: 0.4026 - categorical_accuracy: 0.4983 - accuracy: 0.4983 - val_loss: 1.0156 - val_mae: 0.4097 - val_categorical_accuracy: 0.4653 - val_accuracy: 0.4653\n",
            "Epoch 3/15\n",
            "7/7 [==============================] - ETA: 0s - loss: 0.8508 - mae: 0.3696 - categorical_accuracy: 0.6543 - accuracy: 0.6543\n",
            "Epoch 00003: val_accuracy improved from 0.50165 to 0.62706, saving model to Data/first_best_model.h5\n",
            "7/7 [==============================] - 31s 4s/step - loss: 0.8508 - mae: 0.3696 - categorical_accuracy: 0.6543 - accuracy: 0.6543 - val_loss: 0.9595 - val_mae: 0.3982 - val_categorical_accuracy: 0.6271 - val_accuracy: 0.6271\n",
            "Epoch 4/15\n",
            "7/7 [==============================] - ETA: 0s - loss: 0.6685 - mae: 0.3084 - categorical_accuracy: 0.7517 - accuracy: 0.7517\n",
            "Epoch 00004: val_accuracy improved from 0.62706 to 0.64026, saving model to Data/first_best_model.h5\n",
            "7/7 [==============================] - 30s 4s/step - loss: 0.6685 - mae: 0.3084 - categorical_accuracy: 0.7517 - accuracy: 0.7517 - val_loss: 0.8490 - val_mae: 0.3664 - val_categorical_accuracy: 0.6403 - val_accuracy: 0.6403\n",
            "Epoch 5/15\n",
            "7/7 [==============================] - ETA: 0s - loss: 0.4252 - mae: 0.2140 - categorical_accuracy: 0.9334 - accuracy: 0.9334\n",
            "Epoch 00005: val_accuracy improved from 0.64026 to 0.73597, saving model to Data/first_best_model.h5\n",
            "7/7 [==============================] - 31s 4s/step - loss: 0.4252 - mae: 0.2140 - categorical_accuracy: 0.9334 - accuracy: 0.9334 - val_loss: 0.7227 - val_mae: 0.3169 - val_categorical_accuracy: 0.7360 - val_accuracy: 0.7360\n",
            "Epoch 6/15\n",
            "7/7 [==============================] - ETA: 0s - loss: 0.2087 - mae: 0.1149 - categorical_accuracy: 0.9897 - accuracy: 0.9897\n",
            "Epoch 00006: val_accuracy improved from 0.73597 to 0.74587, saving model to Data/first_best_model.h5\n",
            "7/7 [==============================] - 30s 4s/step - loss: 0.2087 - mae: 0.1149 - categorical_accuracy: 0.9897 - accuracy: 0.9897 - val_loss: 0.5977 - val_mae: 0.2475 - val_categorical_accuracy: 0.7459 - val_accuracy: 0.7459\n",
            "Epoch 7/15\n",
            "7/7 [==============================] - ETA: 0s - loss: 0.0847 - mae: 0.0496 - categorical_accuracy: 0.9978 - accuracy: 0.9978\n",
            "Epoch 00007: val_accuracy improved from 0.74587 to 0.76898, saving model to Data/first_best_model.h5\n",
            "7/7 [==============================] - 30s 4s/step - loss: 0.0847 - mae: 0.0496 - categorical_accuracy: 0.9978 - accuracy: 0.9978 - val_loss: 0.5559 - val_mae: 0.2223 - val_categorical_accuracy: 0.7690 - val_accuracy: 0.7690\n",
            "Epoch 8/15\n",
            "7/7 [==============================] - ETA: 0s - loss: 0.0336 - mae: 0.0197 - categorical_accuracy: 0.9996 - accuracy: 0.9996\n",
            "Epoch 00008: val_accuracy improved from 0.76898 to 0.79208, saving model to Data/first_best_model.h5\n",
            "7/7 [==============================] - 30s 4s/step - loss: 0.0336 - mae: 0.0197 - categorical_accuracy: 0.9996 - accuracy: 0.9996 - val_loss: 0.5289 - val_mae: 0.1971 - val_categorical_accuracy: 0.7921 - val_accuracy: 0.7921\n",
            "Epoch 9/15\n",
            "7/7 [==============================] - ETA: 0s - loss: 0.0160 - mae: 0.0085 - categorical_accuracy: 0.9996 - accuracy: 0.9996\n",
            "Epoch 00009: val_accuracy improved from 0.79208 to 0.80858, saving model to Data/first_best_model.h5\n",
            "7/7 [==============================] - 33s 5s/step - loss: 0.0160 - mae: 0.0085 - categorical_accuracy: 0.9996 - accuracy: 0.9996 - val_loss: 0.5524 - val_mae: 0.1803 - val_categorical_accuracy: 0.8086 - val_accuracy: 0.8086\n",
            "Epoch 10/15\n",
            "7/7 [==============================] - ETA: 0s - loss: 0.0094 - mae: 0.0043 - categorical_accuracy: 0.9996 - accuracy: 0.9996\n",
            "Epoch 00010: val_accuracy did not improve from 0.80858\n",
            "7/7 [==============================] - 30s 4s/step - loss: 0.0094 - mae: 0.0043 - categorical_accuracy: 0.9996 - accuracy: 0.9996 - val_loss: 0.5828 - val_mae: 0.1796 - val_categorical_accuracy: 0.7954 - val_accuracy: 0.7954\n",
            "Epoch 11/15\n",
            "7/7 [==============================] - ETA: 0s - loss: 0.0067 - mae: 0.0026 - categorical_accuracy: 0.9996 - accuracy: 0.9996\n",
            "Epoch 00011: val_accuracy did not improve from 0.80858\n",
            "7/7 [==============================] - 30s 4s/step - loss: 0.0067 - mae: 0.0026 - categorical_accuracy: 0.9996 - accuracy: 0.9996 - val_loss: 0.5514 - val_mae: 0.1777 - val_categorical_accuracy: 0.7954 - val_accuracy: 0.7954\n",
            "Epoch 12/15\n",
            "7/7 [==============================] - ETA: 0s - loss: 0.0054 - mae: 0.0020 - categorical_accuracy: 0.9996 - accuracy: 0.9996\n",
            "Epoch 00012: val_accuracy did not improve from 0.80858\n",
            "7/7 [==============================] - 30s 4s/step - loss: 0.0054 - mae: 0.0020 - categorical_accuracy: 0.9996 - accuracy: 0.9996 - val_loss: 0.5661 - val_mae: 0.1751 - val_categorical_accuracy: 0.8053 - val_accuracy: 0.8053\n",
            "Epoch 13/15\n",
            "7/7 [==============================] - ETA: 0s - loss: 0.0050 - mae: 0.0016 - categorical_accuracy: 0.9996 - accuracy: 0.9996\n",
            "Epoch 00013: val_accuracy did not improve from 0.80858\n",
            "7/7 [==============================] - 31s 4s/step - loss: 0.0050 - mae: 0.0016 - categorical_accuracy: 0.9996 - accuracy: 0.9996 - val_loss: 0.5971 - val_mae: 0.1720 - val_categorical_accuracy: 0.7987 - val_accuracy: 0.7987\n",
            "Epoch 14/15\n",
            "7/7 [==============================] - ETA: 0s - loss: 0.0041 - mae: 0.0014 - categorical_accuracy: 0.9996 - accuracy: 0.9996\n",
            "Epoch 00014: val_accuracy did not improve from 0.80858\n",
            "7/7 [==============================] - 30s 4s/step - loss: 0.0041 - mae: 0.0014 - categorical_accuracy: 0.9996 - accuracy: 0.9996 - val_loss: 0.5761 - val_mae: 0.1705 - val_categorical_accuracy: 0.7921 - val_accuracy: 0.7921\n",
            "Epoch 15/15\n",
            "7/7 [==============================] - ETA: 0s - loss: 0.0040 - mae: 0.0013 - categorical_accuracy: 0.9996 - accuracy: 0.9996\n",
            "Epoch 00015: val_accuracy did not improve from 0.80858\n",
            "7/7 [==============================] - 30s 4s/step - loss: 0.0040 - mae: 0.0013 - categorical_accuracy: 0.9996 - accuracy: 0.9996 - val_loss: 0.5653 - val_mae: 0.1719 - val_categorical_accuracy: 0.7987 - val_accuracy: 0.7987\n"
          ],
          "name": "stdout"
        }
      ]
    },
    {
      "cell_type": "code",
      "metadata": {
        "ExecuteTime": {
          "start_time": "2020-06-21T14:18:39.632Z"
        },
        "code_folding": [
          4,
          10,
          12,
          18,
          20,
          27,
          29,
          35,
          37
        ],
        "scrolled": false,
        "id": "BHdjyaJTVowv",
        "colab_type": "code",
        "colab": {
          "base_uri": "https://localhost:8080/",
          "height": 590
        },
        "outputId": "454987ea-7f18-4707-af80-b3fe1507dd21"
      },
      "source": [
        "fig, ax = plt.subplots(nrows=2, ncols=2, figsize=(20, 10))\n",
        "fig.suptitle('Анализ метрик при обучении first_model', fontsize=20)\n",
        "plt.subplots_adjust(wspace=0.3, hspace=0.5) # расстояние между графиками\n",
        "\n",
        "for row_ax in ax:\n",
        "    for ax_one in row_ax:\n",
        "        ax_one.grid()\n",
        "        ax_one.set_xlabel('Эпоха обучения', fontsize=15)\n",
        "        ax_one.set_yticks(np.arange(0, 1.1, step=0.1))\n",
        "        \n",
        "ax[0,0].plot(history_first_model.history['mae'], \n",
        "             label='Среднее абсолютное отклонение на обучающем наборе')\n",
        "ax[0,0].plot(history_first_model.history['val_mae'], \n",
        "             label='Среднее абсолютное отклонение на проверочном наборе')\n",
        "ax[0,0].legend()\n",
        "ax[0,0].set_title('Метрика \"mae\"', fontsize=15)\n",
        "\n",
        "\n",
        "ax[0,1].plot(history_first_model.history['categorical_accuracy'], \n",
        "         label='Доля верных ответов на train по категориям')\n",
        "ax[0,1].plot(history_first_model.history['val_categorical_accuracy'], \n",
        "         label='Доля верных ответов на val по категориям')\n",
        "plt.xlabel('Эпоха обучения')\n",
        "ax[0,1].legend()\n",
        "ax[0,1].set_title('Метрика \"categorical_accuracy\"', fontsize=15)\n",
        "\n",
        "\n",
        "ax[1,0].plot(history_first_model.history['accuracy'], \n",
        "         label='Доля верных ответов на train')\n",
        "ax[1,0].plot(history_first_model.history['val_accuracy'], \n",
        "         label='Доля верных ответов на val')\n",
        "ax[1,0].legend()\n",
        "ax[1,0].set_title('Метрика \"accuracy\"', fontsize=15)\n",
        "\n",
        "\n",
        "ax[1,1].plot(history_first_model.history['loss'], \n",
        "         label='Потери на train')\n",
        "ax[1,1].plot(history_first_model.history['val_loss'], \n",
        "         label='Потери на val')\n",
        "ax[1,1].legend()\n",
        "ax[1,1].set_title('Метрика \"loss\"', fontsize=15);"
      ],
      "execution_count": 78,
      "outputs": [
        {
          "output_type": "display_data",
          "data": {
            "image/png": "[encoded data removed]",
            "text/plain": [
              "<Figure size 1440x720 with 4 Axes>"
            ]
          },
          "metadata": {
            "tags": [],
            "needs_background": "light"
          }
        }
      ]
    },
    {
      "cell_type": "markdown",
      "metadata": {
        "id": "-tiQBYicVowy",
        "colab_type": "text"
      },
      "source": [
        "После 7 эпохи начинает расти процент потери. Это может говорить о переобучении"
      ]
    },
    {
      "cell_type": "code",
      "metadata": {
        "ExecuteTime": {
          "start_time": "2020-06-21T14:18:39.719Z"
        },
        "id": "UQtGej2cVowy",
        "colab_type": "code",
        "colab": {
          "base_uri": "https://localhost:8080/",
          "height": 357
        },
        "outputId": "78e00250-0fcb-410a-bc81-c86633e77ba6"
      },
      "source": [
        "first_model.summary()"
      ],
      "execution_count": 79,
      "outputs": [
        {
          "output_type": "stream",
          "text": [
            "Model: \"sequential\"\n",
            "_________________________________________________________________\n",
            "Layer (type)                 Output Shape              Param #   \n",
            "=================================================================\n",
            "embedding (Embedding)        (None, 257, 512)          7680000   \n",
            "_________________________________________________________________\n",
            "dropout (Dropout)            (None, 257, 512)          0         \n",
            "_________________________________________________________________\n",
            "conv1d (Conv1D)              (None, 253, 128)          327808    \n",
            "_________________________________________________________________\n",
            "dropout_1 (Dropout)          (None, 253, 128)          0         \n",
            "_________________________________________________________________\n",
            "flatten (Flatten)            (None, 32384)             0         \n",
            "_________________________________________________________________\n",
            "dense (Dense)                (None, 3)                 97155     \n",
            "=================================================================\n",
            "Total params: 8,104,963\n",
            "Trainable params: 8,104,963\n",
            "Non-trainable params: 0\n",
            "_________________________________________________________________\n"
          ],
          "name": "stdout"
        }
      ]
    },
    {
      "cell_type": "markdown",
      "metadata": {
        "id": "Gm9Oc7OfVow3",
        "colab_type": "text"
      },
      "source": [
        "### Демонстрация модели"
      ]
    },
    {
      "cell_type": "markdown",
      "metadata": {
        "id": "7fU_y9kmVow3",
        "colab_type": "text"
      },
      "source": [
        "### Подготовка тестовой выборки для предсказания "
      ]
    },
    {
      "cell_type": "code",
      "metadata": {
        "ExecuteTime": {
          "start_time": "2020-06-21T14:18:39.848Z"
        },
        "id": "hrXBrtcBVow4",
        "colab_type": "code",
        "colab": {}
      },
      "source": [
        "sequences_test = tokenizer.texts_to_sequences(X_test)\n",
        "X_test = pad_sequences(sequences_test, maxlen=num_words)\n",
        "y_test = utils.to_categorical([0 if mark=='bad' else (1 if mark=='neutral' else 2) for mark in y_test], len(y_test.unique()))\n"
      ],
      "execution_count": 80,
      "outputs": []
    },
    {
      "cell_type": "code",
      "metadata": {
        "id": "U9xHqw4gomnz",
        "colab_type": "code",
        "colab": {
          "base_uri": "https://localhost:8080/",
          "height": 34
        },
        "outputId": "4a61916a-7753-4d20-eec0-0598f0b32205"
      },
      "source": [
        "X_test.shape, X_train.shape,"
      ],
      "execution_count": 81,
      "outputs": [
        {
          "output_type": "execute_result",
          "data": {
            "text/plain": [
              "((303, 257), (2719, 257))"
            ]
          },
          "metadata": {
            "tags": []
          },
          "execution_count": 81
        }
      ]
    },
    {
      "cell_type": "code",
      "metadata": {
        "ExecuteTime": {
          "start_time": "2020-06-21T14:18:39.853Z"
        },
        "id": "A8J9TU_-Vow7",
        "colab_type": "code",
        "colab": {
          "base_uri": "https://localhost:8080/",
          "height": 34
        },
        "outputId": "f1129c9c-9944-4b8a-a89b-11e328c10c7d"
      },
      "source": [
        "y_test.shape, y_train.shape,"
      ],
      "execution_count": 82,
      "outputs": [
        {
          "output_type": "execute_result",
          "data": {
            "text/plain": [
              "((303, 3), (2719, 3))"
            ]
          },
          "metadata": {
            "tags": []
          },
          "execution_count": 82
        }
      ]
    },
    {
      "cell_type": "code",
      "metadata": {
        "ExecuteTime": {
          "start_time": "2020-06-21T14:18:39.858Z"
        },
        "id": "lQ7ptRZKVow-",
        "colab_type": "code",
        "colab": {
          "base_uri": "https://localhost:8080/",
          "height": 122
        },
        "outputId": "1b33d32a-1b7f-4bd8-c66d-5b789888f85c"
      },
      "source": [
        "# загружаем веса лучшей модели\n",
        "first_model.load_weights('Data/{}'.format(first_model_path))\n",
        "# Считаем качество на тестовой выборке\n",
        "first_model.evaluate(X_test, y_test, verbose=1)"
      ],
      "execution_count": 83,
      "outputs": [
        {
          "output_type": "stream",
          "text": [
            "10/10 [==============================] - 1s 83ms/step - loss: 0.7670 - mae: 0.2445 - categorical_accuracy: 0.6898 - accuracy: 0.6898\n"
          ],
          "name": "stdout"
        },
        {
          "output_type": "execute_result",
          "data": {
            "text/plain": [
              "[0.7669582962989807,\n",
              " 0.24447686970233917,\n",
              " 0.6897689700126648,\n",
              " 0.6897689700126648]"
            ]
          },
          "metadata": {
            "tags": []
          },
          "execution_count": 83
        }
      ]
    },
    {
      "cell_type": "markdown",
      "metadata": {
        "id": "e0bWnKwxVoxA",
        "colab_type": "text"
      },
      "source": [
        "**Качество данной модели (accuracy = 68.97%) оставляет желать лучшего...**\n",
        "<hr>\n",
        "Создадим другую модель с другими комбинациями скрытых слоев"
      ]
    },
    {
      "cell_type": "markdown",
      "metadata": {
        "id": "1S9Ed65cVoxB",
        "colab_type": "text"
      },
      "source": [
        "### Вторая модель (LSTM)"
      ]
    },
    {
      "cell_type": "code",
      "metadata": {
        "ExecuteTime": {
          "start_time": "2020-06-21T14:18:39.989Z"
        },
        "id": "TjDTr464VoxC",
        "colab_type": "code",
        "colab": {}
      },
      "source": [
        "second_model = Sequential([\n",
        "    layer.Embedding(15000, 256, input_length=num_words),\n",
        "    layer.Dropout(0.2),\n",
        "    layer.LSTM(64),\n",
        "    layer.Dropout(0.2),\n",
        "    layer.Flatten(),\n",
        "    layer.Dense(3, activation='softmax')\n",
        "])\n",
        "\n",
        "second_model.compile(optimizer='adam',\n",
        "                    loss='categorical_crossentropy',\n",
        "                    metrics=['mae', 'categorical_accuracy', 'accuracy'])\n",
        "\n",
        "second_model_path = 'second_best_model.h5'\n",
        "checkpoint_first_model = ModelCheckpoint('Data/{}'.format(second_model_path),\n",
        "                                         monitor='val_accuracy',\n",
        "                                         save_best_only=True, verbose=True)"
      ],
      "execution_count": 84,
      "outputs": []
    },
    {
      "cell_type": "code",
      "metadata": {
        "ExecuteTime": {
          "start_time": "2020-06-21T14:18:39.993Z"
        },
        "scrolled": true,
        "id": "AQ8ujEMSVoxI",
        "colab_type": "code",
        "colab": {
          "base_uri": "https://localhost:8080/",
          "height": 1000
        },
        "outputId": "1e4f1b9b-1af6-41c2-a2a8-d0d283d00a74"
      },
      "source": [
        "history_second_model = second_model.fit(X_train, y_train,\n",
        "                                        epochs=15, \n",
        "                                        batch_size=400, \n",
        "                                        validation_data=(X_val, y_val),\n",
        "                                        callbacks=[checkpoint_first_model],\n",
        "                                       )"
      ],
      "execution_count": 86,
      "outputs": [
        {
          "output_type": "stream",
          "text": [
            "Epoch 1/15\n",
            "7/7 [==============================] - ETA: 0s - loss: 0.9938 - mae: 0.4067 - categorical_accuracy: 0.4667 - accuracy: 0.4667\n",
            "Epoch 00001: val_accuracy did not improve from 0.46535\n",
            "7/7 [==============================] - 11s 2s/step - loss: 0.9938 - mae: 0.4067 - categorical_accuracy: 0.4667 - accuracy: 0.4667 - val_loss: 0.9886 - val_mae: 0.3919 - val_categorical_accuracy: 0.4653 - val_accuracy: 0.4653\n",
            "Epoch 2/15\n",
            "7/7 [==============================] - ETA: 0s - loss: 0.8812 - mae: 0.3668 - categorical_accuracy: 0.5024 - accuracy: 0.5024\n",
            "Epoch 00002: val_accuracy improved from 0.46535 to 0.53465, saving model to Data/second_best_model.h5\n",
            "7/7 [==============================] - 11s 2s/step - loss: 0.8812 - mae: 0.3668 - categorical_accuracy: 0.5024 - accuracy: 0.5024 - val_loss: 0.8757 - val_mae: 0.3611 - val_categorical_accuracy: 0.5347 - val_accuracy: 0.5347\n",
            "Epoch 3/15\n",
            "7/7 [==============================] - ETA: 0s - loss: 0.6461 - mae: 0.2810 - categorical_accuracy: 0.7628 - accuracy: 0.7628\n",
            "Epoch 00003: val_accuracy improved from 0.53465 to 0.75578, saving model to Data/second_best_model.h5\n",
            "7/7 [==============================] - 14s 2s/step - loss: 0.6461 - mae: 0.2810 - categorical_accuracy: 0.7628 - accuracy: 0.7628 - val_loss: 0.7407 - val_mae: 0.3205 - val_categorical_accuracy: 0.7558 - val_accuracy: 0.7558\n",
            "Epoch 4/15\n",
            "7/7 [==============================] - ETA: 0s - loss: 0.4589 - mae: 0.2157 - categorical_accuracy: 0.9136 - accuracy: 0.9136\n",
            "Epoch 00004: val_accuracy improved from 0.75578 to 0.76238, saving model to Data/second_best_model.h5\n",
            "7/7 [==============================] - 11s 2s/step - loss: 0.4589 - mae: 0.2157 - categorical_accuracy: 0.9136 - accuracy: 0.9136 - val_loss: 0.7090 - val_mae: 0.3062 - val_categorical_accuracy: 0.7624 - val_accuracy: 0.7624\n",
            "Epoch 5/15\n",
            "7/7 [==============================] - ETA: 0s - loss: 0.3621 - mae: 0.1822 - categorical_accuracy: 0.9437 - accuracy: 0.9437\n",
            "Epoch 00005: val_accuracy improved from 0.76238 to 0.76568, saving model to Data/second_best_model.h5\n",
            "7/7 [==============================] - 11s 2s/step - loss: 0.3621 - mae: 0.1822 - categorical_accuracy: 0.9437 - accuracy: 0.9437 - val_loss: 0.6820 - val_mae: 0.2462 - val_categorical_accuracy: 0.7657 - val_accuracy: 0.7657\n",
            "Epoch 6/15\n",
            "7/7 [==============================] - ETA: 0s - loss: 0.2308 - mae: 0.1207 - categorical_accuracy: 0.9706 - accuracy: 0.9706\n",
            "Epoch 00006: val_accuracy improved from 0.76568 to 0.78878, saving model to Data/second_best_model.h5\n",
            "7/7 [==============================] - 11s 2s/step - loss: 0.2308 - mae: 0.1207 - categorical_accuracy: 0.9706 - accuracy: 0.9706 - val_loss: 0.5882 - val_mae: 0.2134 - val_categorical_accuracy: 0.7888 - val_accuracy: 0.7888\n",
            "Epoch 7/15\n",
            "7/7 [==============================] - ETA: 0s - loss: 0.1290 - mae: 0.0714 - categorical_accuracy: 0.9871 - accuracy: 0.9871\n",
            "Epoch 00007: val_accuracy improved from 0.78878 to 0.79208, saving model to Data/second_best_model.h5\n",
            "7/7 [==============================] - 11s 2s/step - loss: 0.1290 - mae: 0.0714 - categorical_accuracy: 0.9871 - accuracy: 0.9871 - val_loss: 0.5827 - val_mae: 0.1757 - val_categorical_accuracy: 0.7921 - val_accuracy: 0.7921\n",
            "Epoch 8/15\n",
            "7/7 [==============================] - ETA: 0s - loss: 0.0621 - mae: 0.0361 - categorical_accuracy: 0.9934 - accuracy: 0.9934\n",
            "Epoch 00008: val_accuracy did not improve from 0.79208\n",
            "7/7 [==============================] - 10s 1s/step - loss: 0.0621 - mae: 0.0361 - categorical_accuracy: 0.9934 - accuracy: 0.9934 - val_loss: 0.5696 - val_mae: 0.1660 - val_categorical_accuracy: 0.7624 - val_accuracy: 0.7624\n",
            "Epoch 9/15\n",
            "7/7 [==============================] - ETA: 0s - loss: 0.0301 - mae: 0.0184 - categorical_accuracy: 0.9982 - accuracy: 0.9982\n",
            "Epoch 00009: val_accuracy did not improve from 0.79208\n",
            "7/7 [==============================] - 10s 1s/step - loss: 0.0301 - mae: 0.0184 - categorical_accuracy: 0.9982 - accuracy: 0.9982 - val_loss: 0.6551 - val_mae: 0.1604 - val_categorical_accuracy: 0.7591 - val_accuracy: 0.7591\n",
            "Epoch 10/15\n",
            "7/7 [==============================] - ETA: 0s - loss: 0.0143 - mae: 0.0093 - categorical_accuracy: 1.0000 - accuracy: 1.0000\n",
            "Epoch 00010: val_accuracy did not improve from 0.79208\n",
            "7/7 [==============================] - 10s 1s/step - loss: 0.0143 - mae: 0.0093 - categorical_accuracy: 1.0000 - accuracy: 1.0000 - val_loss: 0.6597 - val_mae: 0.1563 - val_categorical_accuracy: 0.7756 - val_accuracy: 0.7756\n",
            "Epoch 11/15\n",
            "7/7 [==============================] - ETA: 0s - loss: 0.0085 - mae: 0.0056 - categorical_accuracy: 1.0000 - accuracy: 1.0000\n",
            "Epoch 00011: val_accuracy did not improve from 0.79208\n",
            "7/7 [==============================] - 10s 1s/step - loss: 0.0085 - mae: 0.0056 - categorical_accuracy: 1.0000 - accuracy: 1.0000 - val_loss: 0.6850 - val_mae: 0.1558 - val_categorical_accuracy: 0.7723 - val_accuracy: 0.7723\n",
            "Epoch 12/15\n",
            "7/7 [==============================] - ETA: 0s - loss: 0.0061 - mae: 0.0040 - categorical_accuracy: 1.0000 - accuracy: 1.0000\n",
            "Epoch 00012: val_accuracy did not improve from 0.79208\n",
            "7/7 [==============================] - 11s 2s/step - loss: 0.0061 - mae: 0.0040 - categorical_accuracy: 1.0000 - accuracy: 1.0000 - val_loss: 0.7110 - val_mae: 0.1537 - val_categorical_accuracy: 0.7756 - val_accuracy: 0.7756\n",
            "Epoch 13/15\n",
            "7/7 [==============================] - ETA: 0s - loss: 0.0046 - mae: 0.0030 - categorical_accuracy: 1.0000 - accuracy: 1.0000\n",
            "Epoch 00013: val_accuracy did not improve from 0.79208\n",
            "7/7 [==============================] - 11s 2s/step - loss: 0.0046 - mae: 0.0030 - categorical_accuracy: 1.0000 - accuracy: 1.0000 - val_loss: 0.7441 - val_mae: 0.1535 - val_categorical_accuracy: 0.7756 - val_accuracy: 0.7756\n",
            "Epoch 14/15\n",
            "7/7 [==============================] - ETA: 0s - loss: 0.0037 - mae: 0.0024 - categorical_accuracy: 1.0000 - accuracy: 1.0000\n",
            "Epoch 00014: val_accuracy did not improve from 0.79208\n",
            "7/7 [==============================] - 11s 2s/step - loss: 0.0037 - mae: 0.0024 - categorical_accuracy: 1.0000 - accuracy: 1.0000 - val_loss: 0.7746 - val_mae: 0.1543 - val_categorical_accuracy: 0.7789 - val_accuracy: 0.7789\n",
            "Epoch 15/15\n",
            "7/7 [==============================] - ETA: 0s - loss: 0.0031 - mae: 0.0020 - categorical_accuracy: 1.0000 - accuracy: 1.0000\n",
            "Epoch 00015: val_accuracy did not improve from 0.79208\n",
            "7/7 [==============================] - 11s 2s/step - loss: 0.0031 - mae: 0.0020 - categorical_accuracy: 1.0000 - accuracy: 1.0000 - val_loss: 0.8029 - val_mae: 0.1553 - val_categorical_accuracy: 0.7723 - val_accuracy: 0.7723\n"
          ],
          "name": "stdout"
        }
      ]
    },
    {
      "cell_type": "code",
      "metadata": {
        "ExecuteTime": {
          "start_time": "2020-06-21T14:18:39.997Z"
        },
        "id": "ZJ_AGXnHVoxN",
        "colab_type": "code",
        "colab": {
          "base_uri": "https://localhost:8080/",
          "height": 590
        },
        "outputId": "42b6c272-a095-47b5-8a25-ac4ecf97c985"
      },
      "source": [
        "fig, ax = plt.subplots(nrows=2, ncols=2, figsize=(20, 10))\n",
        "fig.suptitle('Анализ метрик при обучении second_model', fontsize=20)\n",
        "plt.subplots_adjust(wspace=0.3, hspace=0.5) # расстояние между графиками\n",
        "\n",
        "for row_ax in ax:\n",
        "    for ax_one in row_ax:\n",
        "        ax_one.grid()\n",
        "        ax_one.set_xlabel('Эпоха обучения', fontsize=15)\n",
        "        ax_one.set_yticks(np.arange(0, 1.1, step=0.1))\n",
        "        \n",
        "ax[0,0].plot(history_second_model.history['mae'], \n",
        "             label='Среднее абсолютное отклонение на обучающем наборе')\n",
        "ax[0,0].plot(history_second_model.history['val_mae'], \n",
        "             label='Среднее абсолютное отклонение на проверочном наборе')\n",
        "ax[0,0].legend()\n",
        "ax[0,0].set_title('Метрика \"mae\"', fontsize=15)\n",
        "\n",
        "\n",
        "ax[0,1].plot(history_second_model.history['categorical_accuracy'], \n",
        "         label='Доля верных ответов на train по категориям')\n",
        "ax[0,1].plot(history_second_model.history['val_categorical_accuracy'], \n",
        "         label='Доля верных ответов на val по категориям')\n",
        "plt.xlabel('Эпоха обучения')\n",
        "ax[0,1].legend()\n",
        "ax[0,1].set_title('Метрика \"categorical_accuracy\"', fontsize=15)\n",
        "\n",
        "\n",
        "ax[1,0].plot(history_second_model.history['accuracy'], \n",
        "         label='Доля верных ответов на train')\n",
        "ax[1,0].plot(history_second_model.history['val_accuracy'], \n",
        "         label='Доля верных ответов на val')\n",
        "ax[1,0].legend()\n",
        "ax[1,0].set_title('Метрика \"accuracy\"', fontsize=15)\n",
        "\n",
        "\n",
        "ax[1,1].plot(history_second_model.history['loss'], \n",
        "         label='Потери на train')\n",
        "ax[1,1].plot(history_second_model.history['val_loss'], \n",
        "         label='Потери на val')\n",
        "ax[1,1].legend()\n",
        "ax[1,1].set_title('Метрика \"loss\"', fontsize=15);"
      ],
      "execution_count": 87,
      "outputs": [
        {
          "output_type": "display_data",
          "data": {
            "image/png": "[encoded data removed]",
            "text/plain": [
              "<Figure size 1440x720 with 4 Axes>"
            ]
          },
          "metadata": {
            "tags": [],
            "needs_background": "light"
          }
        }
      ]
    },
    {
      "cell_type": "code",
      "metadata": {
        "ExecuteTime": {
          "start_time": "2020-06-21T14:18:40.000Z"
        },
        "id": "RD-b6kkGVoxP",
        "colab_type": "code",
        "colab": {
          "base_uri": "https://localhost:8080/",
          "height": 357
        },
        "outputId": "2e9dcce4-f77f-42cc-ef72-55739e9e41b8"
      },
      "source": [
        "second_model.summary()"
      ],
      "execution_count": 88,
      "outputs": [
        {
          "output_type": "stream",
          "text": [
            "Model: \"sequential_1\"\n",
            "_________________________________________________________________\n",
            "Layer (type)                 Output Shape              Param #   \n",
            "=================================================================\n",
            "embedding_1 (Embedding)      (None, 257, 256)          3840000   \n",
            "_________________________________________________________________\n",
            "dropout_2 (Dropout)          (None, 257, 256)          0         \n",
            "_________________________________________________________________\n",
            "lstm (LSTM)                  (None, 64)                82176     \n",
            "_________________________________________________________________\n",
            "dropout_3 (Dropout)          (None, 64)                0         \n",
            "_________________________________________________________________\n",
            "flatten_1 (Flatten)          (None, 64)                0         \n",
            "_________________________________________________________________\n",
            "dense_1 (Dense)              (None, 3)                 195       \n",
            "=================================================================\n",
            "Total params: 3,922,371\n",
            "Trainable params: 3,922,371\n",
            "Non-trainable params: 0\n",
            "_________________________________________________________________\n"
          ],
          "name": "stdout"
        }
      ]
    },
    {
      "cell_type": "code",
      "metadata": {
        "ExecuteTime": {
          "start_time": "2020-06-21T14:18:40.003Z"
        },
        "id": "EDbSn4z2VoxV",
        "colab_type": "code",
        "colab": {
          "base_uri": "https://localhost:8080/",
          "height": 122
        },
        "outputId": "699f1cf5-28ab-4723-d615-9df5b8e60bbe"
      },
      "source": [
        "# загружаем веса лучшей модели\n",
        "second_model.load_weights('Data/{}'.format(second_model_path))\n",
        "# Считаем качество на тестовой выборке\n",
        "second_model.evaluate(X_test, y_test, verbose=1)"
      ],
      "execution_count": 89,
      "outputs": [
        {
          "output_type": "stream",
          "text": [
            "10/10 [==============================] - 0s 43ms/step - loss: 0.2837 - mae: 0.1170 - categorical_accuracy: 0.8746 - accuracy: 0.8746\n"
          ],
          "name": "stdout"
        },
        {
          "output_type": "execute_result",
          "data": {
            "text/plain": [
              "[0.2837302088737488,\n",
              " 0.11701547354459763,\n",
              " 0.8745874762535095,\n",
              " 0.8745874762535095]"
            ]
          },
          "metadata": {
            "tags": []
          },
          "execution_count": 89
        }
      ]
    },
    {
      "cell_type": "markdown",
      "metadata": {
        "id": "_zXHPpUiVoxc",
        "colab_type": "text"
      },
      "source": [
        "### Сеть GRU"
      ]
    },
    {
      "cell_type": "code",
      "metadata": {
        "ExecuteTime": {
          "start_time": "2020-06-21T14:18:40.107Z"
        },
        "id": "ZZchzLgUVoxd",
        "colab_type": "code",
        "colab": {}
      },
      "source": [
        "third_model = Sequential([\n",
        "    layer.Embedding(15000, 512, input_length=num_words),\n",
        "    layer.Dropout(0.2),\n",
        "    layer.GRU(128),\n",
        "    layer.Dropout(0.2),\n",
        "    layer.Flatten(),\n",
        "    layer.Dense(3, activation='softmax')\n",
        "])\n",
        "\n",
        "third_model.compile(optimizer='adam',\n",
        "                    loss='categorical_crossentropy',\n",
        "                    metrics=['mae', 'categorical_accuracy', 'accuracy'])\n",
        "\n",
        "third_model_path = 'third_best_model.h5'\n",
        "checkpoint_first_model = ModelCheckpoint('Data/{}'.format(third_model_path),\n",
        "                                         monitor='val_accuracy',\n",
        "                                         save_best_only=True, verbose=True)"
      ],
      "execution_count": 90,
      "outputs": []
    },
    {
      "cell_type": "code",
      "metadata": {
        "ExecuteTime": {
          "start_time": "2020-06-21T14:18:40.111Z"
        },
        "scrolled": true,
        "id": "EZ_qDZ5qVoxh",
        "colab_type": "code",
        "colab": {
          "base_uri": "https://localhost:8080/",
          "height": 1000
        },
        "outputId": "2fccc781-a3e4-4658-9f0d-42f371984459"
      },
      "source": [
        "history_third_model = third_model.fit(X_train, y_train, \n",
        "                                      epochs=15, \n",
        "                                      batch_size=400, \n",
        "                                      validation_data=(X_val, y_val),\n",
        "                                      callbacks=[checkpoint_first_model],\n",
        "                                      )"
      ],
      "execution_count": 91,
      "outputs": [
        {
          "output_type": "stream",
          "text": [
            "Epoch 1/15\n",
            "7/7 [==============================] - ETA: 0s - loss: 1.0635 - mae: 0.4329 - categorical_accuracy: 0.4421 - accuracy: 0.4421\n",
            "Epoch 00001: val_accuracy improved from -inf to 0.46865, saving model to Data/third_best_model.h5\n",
            "7/7 [==============================] - 25s 4s/step - loss: 1.0635 - mae: 0.4329 - categorical_accuracy: 0.4421 - accuracy: 0.4421 - val_loss: 1.0166 - val_mae: 0.4129 - val_categorical_accuracy: 0.4686 - val_accuracy: 0.4686\n",
            "Epoch 2/15\n",
            "7/7 [==============================] - ETA: 0s - loss: 0.9688 - mae: 0.3948 - categorical_accuracy: 0.4711 - accuracy: 0.4711\n",
            "Epoch 00002: val_accuracy improved from 0.46865 to 0.49175, saving model to Data/third_best_model.h5\n",
            "7/7 [==============================] - 25s 4s/step - loss: 0.9688 - mae: 0.3948 - categorical_accuracy: 0.4711 - accuracy: 0.4711 - val_loss: 0.9364 - val_mae: 0.3799 - val_categorical_accuracy: 0.4917 - val_accuracy: 0.4917\n",
            "Epoch 3/15\n",
            "7/7 [==============================] - ETA: 0s - loss: 0.7651 - mae: 0.3317 - categorical_accuracy: 0.6767 - accuracy: 0.6767\n",
            "Epoch 00003: val_accuracy improved from 0.49175 to 0.71287, saving model to Data/third_best_model.h5\n",
            "7/7 [==============================] - 24s 3s/step - loss: 0.7651 - mae: 0.3317 - categorical_accuracy: 0.6767 - accuracy: 0.6767 - val_loss: 0.7646 - val_mae: 0.3174 - val_categorical_accuracy: 0.7129 - val_accuracy: 0.7129\n",
            "Epoch 4/15\n",
            "7/7 [==============================] - ETA: 0s - loss: 0.4840 - mae: 0.2278 - categorical_accuracy: 0.8761 - accuracy: 0.8761\n",
            "Epoch 00004: val_accuracy improved from 0.71287 to 0.75248, saving model to Data/third_best_model.h5\n",
            "7/7 [==============================] - 24s 3s/step - loss: 0.4840 - mae: 0.2278 - categorical_accuracy: 0.8761 - accuracy: 0.8761 - val_loss: 0.6952 - val_mae: 0.2772 - val_categorical_accuracy: 0.7525 - val_accuracy: 0.7525\n",
            "Epoch 5/15\n",
            "7/7 [==============================] - ETA: 0s - loss: 0.2785 - mae: 0.1358 - categorical_accuracy: 0.9257 - accuracy: 0.9257\n",
            "Epoch 00005: val_accuracy improved from 0.75248 to 0.77228, saving model to Data/third_best_model.h5\n",
            "7/7 [==============================] - 24s 3s/step - loss: 0.2785 - mae: 0.1358 - categorical_accuracy: 0.9257 - accuracy: 0.9257 - val_loss: 0.6623 - val_mae: 0.2129 - val_categorical_accuracy: 0.7723 - val_accuracy: 0.7723\n",
            "Epoch 6/15\n",
            "7/7 [==============================] - ETA: 0s - loss: 0.1292 - mae: 0.0640 - categorical_accuracy: 0.9687 - accuracy: 0.9687\n",
            "Epoch 00006: val_accuracy did not improve from 0.77228\n",
            "7/7 [==============================] - 24s 3s/step - loss: 0.1292 - mae: 0.0640 - categorical_accuracy: 0.9687 - accuracy: 0.9687 - val_loss: 0.6583 - val_mae: 0.1830 - val_categorical_accuracy: 0.7558 - val_accuracy: 0.7558\n",
            "Epoch 7/15\n",
            "7/7 [==============================] - ETA: 0s - loss: 0.0455 - mae: 0.0227 - categorical_accuracy: 0.9923 - accuracy: 0.9923\n",
            "Epoch 00007: val_accuracy improved from 0.77228 to 0.80858, saving model to Data/third_best_model.h5\n",
            "7/7 [==============================] - 24s 3s/step - loss: 0.0455 - mae: 0.0227 - categorical_accuracy: 0.9923 - accuracy: 0.9923 - val_loss: 0.7020 - val_mae: 0.1488 - val_categorical_accuracy: 0.8086 - val_accuracy: 0.8086\n",
            "Epoch 8/15\n",
            "7/7 [==============================] - ETA: 0s - loss: 0.0131 - mae: 0.0076 - categorical_accuracy: 0.9974 - accuracy: 0.9974\n",
            "Epoch 00008: val_accuracy did not improve from 0.80858\n",
            "7/7 [==============================] - 24s 3s/step - loss: 0.0131 - mae: 0.0076 - categorical_accuracy: 0.9974 - accuracy: 0.9974 - val_loss: 0.7269 - val_mae: 0.1439 - val_categorical_accuracy: 0.7888 - val_accuracy: 0.7888\n",
            "Epoch 9/15\n",
            "7/7 [==============================] - ETA: 0s - loss: 0.0035 - mae: 0.0022 - categorical_accuracy: 0.9996 - accuracy: 0.9996\n",
            "Epoch 00009: val_accuracy did not improve from 0.80858\n",
            "7/7 [==============================] - 24s 3s/step - loss: 0.0035 - mae: 0.0022 - categorical_accuracy: 0.9996 - accuracy: 0.9996 - val_loss: 0.7924 - val_mae: 0.1480 - val_categorical_accuracy: 0.7855 - val_accuracy: 0.7855\n",
            "Epoch 10/15\n",
            "7/7 [==============================] - ETA: 0s - loss: 0.0017 - mae: 0.0011 - categorical_accuracy: 1.0000 - accuracy: 1.0000\n",
            "Epoch 00010: val_accuracy did not improve from 0.80858\n",
            "7/7 [==============================] - 24s 3s/step - loss: 0.0017 - mae: 0.0011 - categorical_accuracy: 1.0000 - accuracy: 1.0000 - val_loss: 0.7941 - val_mae: 0.1374 - val_categorical_accuracy: 0.7954 - val_accuracy: 0.7954\n",
            "Epoch 11/15\n",
            "7/7 [==============================] - ETA: 0s - loss: 7.7035e-04 - mae: 5.1122e-04 - categorical_accuracy: 1.0000 - accuracy: 1.0000\n",
            "Epoch 00011: val_accuracy did not improve from 0.80858\n",
            "7/7 [==============================] - 24s 3s/step - loss: 7.7035e-04 - mae: 5.1122e-04 - categorical_accuracy: 1.0000 - accuracy: 1.0000 - val_loss: 0.8110 - val_mae: 0.1332 - val_categorical_accuracy: 0.8053 - val_accuracy: 0.8053\n",
            "Epoch 12/15\n",
            "7/7 [==============================] - ETA: 0s - loss: 5.8740e-04 - mae: 3.9020e-04 - categorical_accuracy: 1.0000 - accuracy: 1.0000\n",
            "Epoch 00012: val_accuracy did not improve from 0.80858\n",
            "7/7 [==============================] - 24s 3s/step - loss: 5.8740e-04 - mae: 3.9020e-04 - categorical_accuracy: 1.0000 - accuracy: 1.0000 - val_loss: 0.8267 - val_mae: 0.1342 - val_categorical_accuracy: 0.8020 - val_accuracy: 0.8020\n",
            "Epoch 13/15\n",
            "7/7 [==============================] - ETA: 0s - loss: 4.2448e-04 - mae: 2.8245e-04 - categorical_accuracy: 1.0000 - accuracy: 1.0000\n",
            "Epoch 00013: val_accuracy did not improve from 0.80858\n",
            "7/7 [==============================] - 24s 3s/step - loss: 4.2448e-04 - mae: 2.8245e-04 - categorical_accuracy: 1.0000 - accuracy: 1.0000 - val_loss: 0.8432 - val_mae: 0.1369 - val_categorical_accuracy: 0.7987 - val_accuracy: 0.7987\n",
            "Epoch 14/15\n",
            "7/7 [==============================] - ETA: 0s - loss: 3.3505e-04 - mae: 2.2309e-04 - categorical_accuracy: 1.0000 - accuracy: 1.0000\n",
            "Epoch 00014: val_accuracy did not improve from 0.80858\n",
            "7/7 [==============================] - 24s 3s/step - loss: 3.3505e-04 - mae: 2.2309e-04 - categorical_accuracy: 1.0000 - accuracy: 1.0000 - val_loss: 0.8596 - val_mae: 0.1393 - val_categorical_accuracy: 0.7954 - val_accuracy: 0.7954\n",
            "Epoch 15/15\n",
            "7/7 [==============================] - ETA: 0s - loss: 3.1856e-04 - mae: 2.1205e-04 - categorical_accuracy: 1.0000 - accuracy: 1.0000\n",
            "Epoch 00015: val_accuracy did not improve from 0.80858\n",
            "7/7 [==============================] - 24s 3s/step - loss: 3.1856e-04 - mae: 2.1205e-04 - categorical_accuracy: 1.0000 - accuracy: 1.0000 - val_loss: 0.8695 - val_mae: 0.1398 - val_categorical_accuracy: 0.7954 - val_accuracy: 0.7954\n"
          ],
          "name": "stdout"
        }
      ]
    },
    {
      "cell_type": "code",
      "metadata": {
        "ExecuteTime": {
          "start_time": "2020-06-21T14:18:40.115Z"
        },
        "id": "ZjCfuospVoxp",
        "colab_type": "code",
        "colab": {
          "base_uri": "https://localhost:8080/",
          "height": 590
        },
        "outputId": "066abd56-a474-4f88-f06f-3212d24a02f1"
      },
      "source": [
        "fig, ax = plt.subplots(nrows=2, ncols=2, figsize=(20, 10))\n",
        "fig.suptitle('Анализ метрик при обучении third_model', fontsize=20)\n",
        "plt.subplots_adjust(wspace=0.3, hspace=0.5) # расстояние между графиками\n",
        "\n",
        "for row_ax in ax:\n",
        "    for ax_one in row_ax:\n",
        "        ax_one.grid()\n",
        "        ax_one.set_xlabel('Эпоха обучения', fontsize=15)\n",
        "        ax_one.set_yticks(np.arange(0, 1.1, step=0.1))\n",
        "        \n",
        "ax[0,0].plot(history_third_model.history['mae'], \n",
        "             label='Среднее абсолютное отклонение на обучающем наборе')\n",
        "ax[0,0].plot(history_third_model.history['val_mae'], \n",
        "             label='Среднее абсолютное отклонение на проверочном наборе')\n",
        "ax[0,0].legend()\n",
        "ax[0,0].set_title('Метрика \"mae\"', fontsize=15)\n",
        "\n",
        "\n",
        "ax[0,1].plot(history_third_model.history['categorical_accuracy'], \n",
        "         label='Доля верных ответов на train по категориям')\n",
        "ax[0,1].plot(history_third_model.history['val_categorical_accuracy'], \n",
        "         label='Доля верных ответов на val по категориям')\n",
        "plt.xlabel('Эпоха обучения')\n",
        "ax[0,1].legend()\n",
        "ax[0,1].set_title('Метрика \"categorical_accuracy\"', fontsize=15)\n",
        "\n",
        "\n",
        "ax[1,0].plot(history_third_model.history['accuracy'], \n",
        "         label='Доля верных ответов на train')\n",
        "ax[1,0].plot(history_third_model.history['val_accuracy'], \n",
        "         label='Доля верных ответов на val')\n",
        "ax[1,0].legend()\n",
        "ax[1,0].set_title('Метрика \"accuracy\"', fontsize=15)\n",
        "\n",
        "\n",
        "ax[1,1].plot(history_third_model.history['loss'], \n",
        "         label='Потери на train')\n",
        "ax[1,1].plot(history_third_model.history['val_loss'], \n",
        "         label='Потери на val')\n",
        "ax[1,1].legend()\n",
        "ax[1,1].set_title('Метрика \"loss\"', fontsize=15);"
      ],
      "execution_count": 92,
      "outputs": [
        {
          "output_type": "display_data",
          "data": {
            "image/png": "[encoded data removed]",
            "text/plain": [
              "<Figure size 1440x720 with 4 Axes>"
            ]
          },
          "metadata": {
            "tags": [],
            "needs_background": "light"
          }
        }
      ]
    },
    {
      "cell_type": "code",
      "metadata": {
        "ExecuteTime": {
          "start_time": "2020-06-21T14:18:40.119Z"
        },
        "id": "igD4G-tTVoxw",
        "colab_type": "code",
        "colab": {
          "base_uri": "https://localhost:8080/",
          "height": 122
        },
        "outputId": "3d144164-9515-4bc8-d374-380b1cae6efd"
      },
      "source": [
        "# загружаем веса лучшей модели\n",
        "third_model.load_weights('Data/{}'.format(third_model_path))\n",
        "# Считаем качество на тестовой выборке\n",
        "third_model.evaluate(X_test, y_test, verbose=1)"
      ],
      "execution_count": 94,
      "outputs": [
        {
          "output_type": "stream",
          "text": [
            "10/10 [==============================] - 1s 129ms/step - loss: 0.2812 - mae: 0.0828 - categorical_accuracy: 0.8977 - accuracy: 0.8977\n"
          ],
          "name": "stdout"
        },
        {
          "output_type": "execute_result",
          "data": {
            "text/plain": [
              "[0.28116750717163086,\n",
              " 0.08279187232255936,\n",
              " 0.8976897597312927,\n",
              " 0.8976897597312927]"
            ]
          },
          "metadata": {
            "tags": []
          },
          "execution_count": 94
        }
      ]
    },
    {
      "cell_type": "markdown",
      "metadata": {
        "id": "SRcrfvYEOnR6",
        "colab_type": "text"
      },
      "source": [
        "Качество модели GRU на тестовой выборке составляет 89.77%"
      ]
    },
    {
      "cell_type": "markdown",
      "metadata": {
        "id": "i9Nrtf-lVox5",
        "colab_type": "text"
      },
      "source": [
        "## Что нужно изучить:\n",
        "- приращивание данных (data-augmentation) \n",
        "- пакетная нормализация (batch normalization).\n",
        "- embedding fasttext"
      ]
    },
    {
      "cell_type": "code",
      "metadata": {
        "id": "ZkuRl8NtVox6",
        "colab_type": "code",
        "colab": {}
      },
      "source": [
        ""
      ],
      "execution_count": null,
      "outputs": []
    }
  ]
}