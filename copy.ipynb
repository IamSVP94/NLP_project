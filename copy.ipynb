{
 "cells": [
  {
   "cell_type": "markdown",
   "metadata": {},
   "source": [
    "# Sentiment analysis of reviews tonality from KinoPoisk"
   ]
  },
  {
   "cell_type": "markdown",
   "metadata": {},
   "source": [
    "## Сбор данных"
   ]
  },
  {
   "cell_type": "markdown",
   "metadata": {},
   "source": [
    "В качестве данных будут выступать отзывы на разные фильмы с сайта КиноПоиск"
   ]
  },
  {
   "cell_type": "code",
   "execution_count": 1,
   "metadata": {
    "ExecuteTime": {
     "end_time": "2020-06-21T14:20:31.282298Z",
     "start_time": "2020-06-21T14:18:38.769300Z"
    }
   },
   "outputs": [],
   "source": [
    "import time\n",
    "import requests\n",
    "from bs4 import BeautifulSoup\n",
    "import pandas as pd\n",
    "from fake_useragent import UserAgent\n",
    "from tqdm import tqdm\n",
    "import math\n",
    "import numpy as np\n",
    "import string\n",
    "import nltk\n",
    "from tensorflow.keras.preprocessing.text import Tokenizer\n",
    "import matplotlib.pyplot as plt\n",
    "from tensorflow.keras.preprocessing.sequence import pad_sequences\n",
    "from sklearn.model_selection import train_test_split\n",
    "from tensorflow.keras.models import Sequential\n",
    "from tensorflow.keras import layers as layer\n",
    "from tensorflow.keras.callbacks import ModelCheckpoint\n",
    "from tensorflow.keras import utils\n",
    "from googletrans import Translator as GT"
   ]
  },
  {
   "cell_type": "code",
   "execution_count": 2,
   "metadata": {
    "ExecuteTime": {
     "end_time": "2020-06-21T14:20:31.339271Z",
     "start_time": "2020-06-21T14:20:31.289300Z"
    },
    "code_folding": []
   },
   "outputs": [],
   "source": [
    "'''\n",
    "Функция скачивает отзывы с КиноПоиска.\n",
    "Нужно еще доработать для настройки аргументов\n",
    "АРГУМЕНТЫ ФУНКЦИИ:\n",
    "reviews_count - если нужно ограничить кол-во отзывов всех видов (по умолч. скачивает все отзывы)\n",
    "review_type - если нужны отзывы определенного типа ['bad', 'good', 'neutral'] (по умолч. скачивает все типы отзывов)\n",
    "together - True, если нужно сохранить все отзывы в 1 файл (по умолч. False)\n",
    "download - True, если нужно скачивать отзывы\n",
    "'''\n",
    "def get_reviews_KinoPoisk(reviews_count=None, review_type=None, together=False, download=True):\n",
    "    \n",
    "    def download_reviews(df, reviews_type, together):  # сохраняет датафреймы в csv файлы\n",
    "        if together:  # если нужно сохранить все вместе\n",
    "            df.to_csv('Data/all_reviews.csv', index=False)\n",
    "        else:\n",
    "            df.to_csv('Data/'+str(reviews_type)+'_reviews.csv', index=False)\n",
    "\n",
    "\n",
    "    def kinopoisk_revs(rtype, reviews_count):  # тянет отзывы с КиноПоиска\n",
    "        rev_per_page = 200\n",
    "        base_url = 'https://www.kinopoisk.ru/reviews/type/comment/status/{0}/period/month/perpage/{1}/page/{2}/'\n",
    "        page_numb = 1\n",
    "        r_counter = reviews_count\n",
    "        # пустой дф для последующего добавления отзывов\n",
    "        rev_df = pd.DataFrame(columns=['review_text', 'review_type'])\n",
    "        while True:  # пока есть отзывы (выход из цикла с помощью break)\n",
    "            # если нужно ограничить кол-во отзывов\n",
    "            if reviews_count and math.ceil(r_counter/rev_per_page) < page_numb:\n",
    "                break\n",
    "            response = requests.get(base_url.format(rtype, rev_per_page, page_numb),\n",
    "                                    headers={'User-Agent': UserAgent().chrome})\n",
    "            assert response.status_code == 200, 'Код ответа сервера: {}'.format(\n",
    "                response.status_code)  # если сервер не доступен, то ошибка\n",
    "            # выгружаем страницу отзывов\n",
    "            soup = BeautifulSoup(response.text, 'html.parser')\n",
    "            reviews_texts = [tag.get_text(strip=True) for tag in soup.select(\n",
    "                '.brand_words span')]  # вычленяем отзывы по селектору\n",
    "            page_numb += 1  # итератор страниц\n",
    "            # если отзывов нет на странице, то выход из цикла (или если это уже лишние отзывы)\n",
    "            if not len(reviews_texts):\n",
    "                break            \n",
    "            rev_df = rev_df.append(pd.DataFrame({'review_text': reviews_texts, 'review_type': rtype}),\n",
    "                                   ignore_index=True)  # сохраняем все отзывы в датафрейм\n",
    "        if not reviews_count:\n",
    "            return rev_df\n",
    "        else:\n",
    "            if reviews_count > len(rev_df):\n",
    "                reviews_count = len(rev_df)\n",
    "            return rev_df.loc[0:reviews_count-1,:]\n",
    "\n",
    "\n",
    "    if isinstance(review_type, str):  # если указан тип нужных отзывов\n",
    "        rev_df = kinopoisk_revs(review_type, reviews_count)  # вытягиваем отзывы\n",
    "    else:\n",
    "        if not review_type:\n",
    "            review_type = ['neutral', 'good', 'bad']  # все варианты отзывов\n",
    "        iter_types = tqdm(review_type)  # для отображения прогресс-бара\n",
    "        if together:  # если нужены все отзывы в 1 датафрейме\n",
    "            common_df = pd.DataFrame(columns=['review_text', 'review_type'])\n",
    "        for rtype in iter_types:  # перебираем все виды отзывов\n",
    "            iter_types.set_description('Processing \"{}\" reviews'.format(\n",
    "                rtype), refresh=True)  # добавляем свое описание для прогресса\n",
    "            # Датафрейм с отзывами опред. типа\n",
    "            rev_df = kinopoisk_revs(rtype, reviews_count)\n",
    "            if together:\n",
    "                common_df = common_df.append(rev_df, ignore_index=True)\n",
    "        if together:\n",
    "            rev_df = common_df\n",
    "    if download:  # если нужно скачать отзывы\n",
    "        download_reviews(rev_df, rtype, together)\n",
    "    else:\n",
    "        return rev_df"
   ]
  },
  {
   "cell_type": "code",
   "execution_count": 3,
   "metadata": {
    "ExecuteTime": {
     "end_time": "2020-06-21T14:20:32.437730Z",
     "start_time": "2020-06-21T14:20:31.342269Z"
    },
    "scrolled": false
   },
   "outputs": [
    {
     "data": {
      "text/html": [
       "<div>\n",
       "<style scoped>\n",
       "    .dataframe tbody tr th:only-of-type {\n",
       "        vertical-align: middle;\n",
       "    }\n",
       "\n",
       "    .dataframe tbody tr th {\n",
       "        vertical-align: top;\n",
       "    }\n",
       "\n",
       "    .dataframe thead th {\n",
       "        text-align: right;\n",
       "    }\n",
       "</style>\n",
       "<table border=\"1\" class=\"dataframe\">\n",
       "  <thead>\n",
       "    <tr style=\"text-align: right;\">\n",
       "      <th></th>\n",
       "      <th>review_text</th>\n",
       "      <th>review_type</th>\n",
       "    </tr>\n",
       "  </thead>\n",
       "  <tbody>\n",
       "    <tr>\n",
       "      <th>0</th>\n",
       "      <td>История про поэта Янониса сейчас может показат...</td>\n",
       "      <td>neutral</td>\n",
       "    </tr>\n",
       "    <tr>\n",
       "      <th>1</th>\n",
       "      <td>Вот казалось бы, есть главная героиня, о чьем ...</td>\n",
       "      <td>neutral</td>\n",
       "    </tr>\n",
       "    <tr>\n",
       "      <th>2</th>\n",
       "      <td>Все хорошо и изящно в этом фильме Витаутаса Жа...</td>\n",
       "      <td>neutral</td>\n",
       "    </tr>\n",
       "    <tr>\n",
       "      <th>3</th>\n",
       "      <td>Для Жалакявичуса, похоже, этот фильм был очень...</td>\n",
       "      <td>neutral</td>\n",
       "    </tr>\n",
       "    <tr>\n",
       "      <th>4</th>\n",
       "      <td>Название «Орел», довольно смущающее, но что по...</td>\n",
       "      <td>neutral</td>\n",
       "    </tr>\n",
       "    <tr>\n",
       "      <th>...</th>\n",
       "      <td>...</td>\n",
       "      <td>...</td>\n",
       "    </tr>\n",
       "    <tr>\n",
       "      <th>2458</th>\n",
       "      <td>Некомфортно, непонятно, противно, даже больно ...</td>\n",
       "      <td>bad</td>\n",
       "    </tr>\n",
       "    <tr>\n",
       "      <th>2459</th>\n",
       "      <td>Военная фантастика, клюква, не имеющая никакой...</td>\n",
       "      <td>bad</td>\n",
       "    </tr>\n",
       "    <tr>\n",
       "      <th>2460</th>\n",
       "      <td>С лирической линией явный перебор. На выходе: ...</td>\n",
       "      <td>bad</td>\n",
       "    </tr>\n",
       "    <tr>\n",
       "      <th>2461</th>\n",
       "      <td>Почему фильм называется «Джульбарс» не ясно. Н...</td>\n",
       "      <td>bad</td>\n",
       "    </tr>\n",
       "    <tr>\n",
       "      <th>2462</th>\n",
       "      <td>Сюжет первых четырёх серий наивен, как не знаю...</td>\n",
       "      <td>bad</td>\n",
       "    </tr>\n",
       "  </tbody>\n",
       "</table>\n",
       "<p>2463 rows × 2 columns</p>\n",
       "</div>"
      ],
      "text/plain": [
       "                                            review_text review_type\n",
       "0     История про поэта Янониса сейчас может показат...     neutral\n",
       "1     Вот казалось бы, есть главная героиня, о чьем ...     neutral\n",
       "2     Все хорошо и изящно в этом фильме Витаутаса Жа...     neutral\n",
       "3     Для Жалакявичуса, похоже, этот фильм был очень...     neutral\n",
       "4     Название «Орел», довольно смущающее, но что по...     neutral\n",
       "...                                                 ...         ...\n",
       "2458  Некомфортно, непонятно, противно, даже больно ...         bad\n",
       "2459  Военная фантастика, клюква, не имеющая никакой...         bad\n",
       "2460  С лирической линией явный перебор. На выходе: ...         bad\n",
       "2461  Почему фильм называется «Джульбарс» не ясно. Н...         bad\n",
       "2462  Сюжет первых четырёх серий наивен, как не знаю...         bad\n",
       "\n",
       "[2463 rows x 2 columns]"
      ]
     },
     "execution_count": 3,
     "metadata": {},
     "output_type": "execute_result"
    }
   ],
   "source": [
    "# get_reviews_KinoPoisk(download=True, together=True)\n",
    "KinoPoisk_df = pd.read_csv('Data/all_reviews.csv')\n",
    "KinoPoisk_df"
   ]
  },
  {
   "cell_type": "markdown",
   "metadata": {},
   "source": [
    "## Выделение тестовой выборки"
   ]
  },
  {
   "cell_type": "code",
   "execution_count": 4,
   "metadata": {
    "ExecuteTime": {
     "end_time": "2020-06-21T14:20:32.556026Z",
     "start_time": "2020-06-21T14:20:32.441727Z"
    }
   },
   "outputs": [],
   "source": [
    "# разбили на тренировочную и тестовую выборку\n",
    "X, X_test, y, y_test = train_test_split(KinoPoisk_df['review_text'], \n",
    "                                        KinoPoisk_df['review_type'],\n",
    "                                        test_size=0.1, \n",
    "                                        random_state=2, \n",
    "                                        shuffle=True, \n",
    "                                        stratify=KinoPoisk_df['review_type'])"
   ]
  },
  {
   "cell_type": "code",
   "execution_count": 5,
   "metadata": {
    "ExecuteTime": {
     "end_time": "2020-06-21T14:20:32.624985Z",
     "start_time": "2020-06-21T14:20:32.561023Z"
    }
   },
   "outputs": [
    {
     "data": {
      "text/plain": [
       "(2216, 247)"
      ]
     },
     "execution_count": 5,
     "metadata": {},
     "output_type": "execute_result"
    }
   ],
   "source": [
    "len(X), len(X_test)"
   ]
  },
  {
   "cell_type": "markdown",
   "metadata": {},
   "source": [
    "## Первичный анализ"
   ]
  },
  {
   "cell_type": "markdown",
   "metadata": {},
   "source": [
    "На первый взгляд сразу вырисовываются очевидные проблемы:\n",
    "- Необработанные отзывы (со знаками препинания, символами разметки и т.п.);\n",
    "- Разный размер отзывов;\n",
    "- Несбалансированная выборка;\n",
    "- Три категории."
   ]
  },
  {
   "cell_type": "code",
   "execution_count": 6,
   "metadata": {
    "ExecuteTime": {
     "end_time": "2020-06-21T14:20:32.796022Z",
     "start_time": "2020-06-21T14:20:32.627982Z"
    }
   },
   "outputs": [
    {
     "data": {
      "text/plain": [
       "'История про\\xa0поэта Янониса сейчас может показаться совсем неинтересной. В\\xa0ленте много революционного напала. Нечто между «Оптимистической трагедией» и\\xa0«Как закалялась сталь». Тем\\xa0более русскоязычную ве...'"
      ]
     },
     "execution_count": 6,
     "metadata": {},
     "output_type": "execute_result"
    }
   ],
   "source": [
    "X[0][:200]+'...'"
   ]
  },
  {
   "cell_type": "code",
   "execution_count": 7,
   "metadata": {
    "ExecuteTime": {
     "end_time": "2020-06-21T14:20:32.932125Z",
     "start_time": "2020-06-21T14:20:32.799019Z"
    }
   },
   "outputs": [
    {
     "data": {
      "text/plain": [
       "(1252, 1125)"
      ]
     },
     "execution_count": 7,
     "metadata": {},
     "output_type": "execute_result"
    }
   ],
   "source": [
    "len(X[0]), \\\n",
    "len(X[1]), \\"
   ]
  },
  {
   "cell_type": "code",
   "execution_count": 8,
   "metadata": {
    "ExecuteTime": {
     "end_time": "2020-06-21T14:20:33.216989Z",
     "start_time": "2020-06-21T14:20:32.944123Z"
    }
   },
   "outputs": [
    {
     "name": "stdout",
     "output_type": "stream",
     "text": [
      "good 1410 - 63.63 %\n",
      "bad 406 - 18.32 %\n",
      "neutral 400 - 18.05 %\n"
     ]
    }
   ],
   "source": [
    "for t in y.unique():\n",
    "    rev_count = len(y[y==t])\n",
    "    print(t, rev_count, '-', round(rev_count/len(X)*100, 2), '%')"
   ]
  },
  {
   "cell_type": "markdown",
   "metadata": {},
   "source": [
    "## Аугментация данных"
   ]
  },
  {
   "cell_type": "markdown",
   "metadata": {},
   "source": [
    "Так как позитивных отзывов у нас больше, чем всех остальных, то наша модель при постоянной выдаче результата \"good\", будет достигать точности предсказания класса почти в 64%.<br>\n",
    "Для устранения подобной проблемы, попробуем сгенерировать отзывы из оставшихся категорий."
   ]
  },
  {
   "cell_type": "code",
   "execution_count": 9,
   "metadata": {
    "ExecuteTime": {
     "end_time": "2020-06-21T14:20:33.358513Z",
     "start_time": "2020-06-21T14:20:33.219986Z"
    }
   },
   "outputs": [],
   "source": [
    "def review_augmentator(phrase): # делает 2-ной перевод предложения и возвращает дубликат\n",
    "    langs = ['de', 'es', 'pt', 'it', 'fr', 'ar', 'vi', 'ja', 'en']\n",
    "    lang_sel = random.choices(langs)[0]\n",
    "    from_ru = GT().translate(phrase, src='ru', dest=lang_sel).text\n",
    "    to_ru = GT().translate(from_ru, src=lang_sel, dest='ru').text\n",
    "    return {'text': to_ru, 'lang': lang_sel}    \n",
    "\n",
    "def df_foreign_dublicator(df, y, types=None):\n",
    "    df = df.reset_index(drop=True)\n",
    "    y = y.reset_index(drop=True)\n",
    "    if not types:\n",
    "        types = y.unique()\n",
    "    for rtype in types:\n",
    "        rtype_indx_list = []\n",
    "        for i,el in enumerate(y):\n",
    "            if el == rtype:\n",
    "                rtype_indx_list.append(i)\n",
    "        iter_indx = tqdm(rtype_indx_list)\n",
    "        for i in iter_indx:\n",
    "            augmentator = review_augmentator(df[i])\n",
    "            iter_indx.set_description('type: \"{}\"; lang: \"ru-{}-ru\" '.format(rtype, augmentator['lang']), refresh=True)\n",
    "            df = df.append(pd.Series(augmentator['text']), ignore_index=True)\n",
    "            y = y.append(pd.Series(rtype), ignore_index=True)\n",
    "            \n",
    "    return (df, y)\n",
    "\n",
    "# X, y = df_foreign_dublicator(X, y, types=['bad', 'neutral'])\n",
    "# pd.concat([X, y], axis=1, ignore_index=True).to_csv('Data/after_augmentation.csv', index=False, header=['review_text', 'review_type'])"
   ]
  },
  {
   "cell_type": "code",
   "execution_count": 10,
   "metadata": {
    "ExecuteTime": {
     "end_time": "2020-06-21T14:20:34.450775Z",
     "start_time": "2020-06-21T14:20:33.365496Z"
    }
   },
   "outputs": [
    {
     "data": {
      "text/html": [
       "<div>\n",
       "<style scoped>\n",
       "    .dataframe tbody tr th:only-of-type {\n",
       "        vertical-align: middle;\n",
       "    }\n",
       "\n",
       "    .dataframe tbody tr th {\n",
       "        vertical-align: top;\n",
       "    }\n",
       "\n",
       "    .dataframe thead th {\n",
       "        text-align: right;\n",
       "    }\n",
       "</style>\n",
       "<table border=\"1\" class=\"dataframe\">\n",
       "  <thead>\n",
       "    <tr style=\"text-align: right;\">\n",
       "      <th></th>\n",
       "      <th>review_text</th>\n",
       "      <th>review_type</th>\n",
       "    </tr>\n",
       "  </thead>\n",
       "  <tbody>\n",
       "    <tr>\n",
       "      <th>0</th>\n",
       "      <td>Данный фильм мне порекомендовала мама. Также с...</td>\n",
       "      <td>good</td>\n",
       "    </tr>\n",
       "    <tr>\n",
       "      <th>1</th>\n",
       "      <td>«Лара Крофт» (2018) — ремейк и новый взгляд на...</td>\n",
       "      <td>bad</td>\n",
       "    </tr>\n",
       "    <tr>\n",
       "      <th>2</th>\n",
       "      <td>Думаю никто не будет спорить с тем, что «Смерт...</td>\n",
       "      <td>good</td>\n",
       "    </tr>\n",
       "    <tr>\n",
       "      <th>3</th>\n",
       "      <td>Посмотрела, не поленилась. Зачем? — Не знаю. Я...</td>\n",
       "      <td>bad</td>\n",
       "    </tr>\n",
       "    <tr>\n",
       "      <th>4</th>\n",
       "      <td>Первое и самое главное — фильм не удался.Нет о...</td>\n",
       "      <td>bad</td>\n",
       "    </tr>\n",
       "    <tr>\n",
       "      <th>...</th>\n",
       "      <td>...</td>\n",
       "      <td>...</td>\n",
       "    </tr>\n",
       "    <tr>\n",
       "      <th>3017</th>\n",
       "      <td>1. Прежде всего, важно отметить, что это грубы...</td>\n",
       "      <td>neutral</td>\n",
       "    </tr>\n",
       "    <tr>\n",
       "      <th>3018</th>\n",
       "      <td>«Трансформеры» для меня давно превратились во ...</td>\n",
       "      <td>neutral</td>\n",
       "    </tr>\n",
       "    <tr>\n",
       "      <th>3019</th>\n",
       "      <td>Экстремально попсовый мультик! Скроенный целик...</td>\n",
       "      <td>neutral</td>\n",
       "    </tr>\n",
       "    <tr>\n",
       "      <th>3020</th>\n",
       "      <td>Увидев, Дюнкерк оставляет двойную эмоцию. С од...</td>\n",
       "      <td>neutral</td>\n",
       "    </tr>\n",
       "    <tr>\n",
       "      <th>3021</th>\n",
       "      <td>Братья и сестры жили в одном королевстве. У ни...</td>\n",
       "      <td>neutral</td>\n",
       "    </tr>\n",
       "  </tbody>\n",
       "</table>\n",
       "<p>3022 rows × 2 columns</p>\n",
       "</div>"
      ],
      "text/plain": [
       "                                            review_text review_type\n",
       "0     Данный фильм мне порекомендовала мама. Также с...        good\n",
       "1     «Лара Крофт» (2018) — ремейк и новый взгляд на...         bad\n",
       "2     Думаю никто не будет спорить с тем, что «Смерт...        good\n",
       "3     Посмотрела, не поленилась. Зачем? — Не знаю. Я...         bad\n",
       "4     Первое и самое главное — фильм не удался.Нет о...         bad\n",
       "...                                                 ...         ...\n",
       "3017  1. Прежде всего, важно отметить, что это грубы...     neutral\n",
       "3018  «Трансформеры» для меня давно превратились во ...     neutral\n",
       "3019  Экстремально попсовый мультик! Скроенный целик...     neutral\n",
       "3020  Увидев, Дюнкерк оставляет двойную эмоцию. С од...     neutral\n",
       "3021  Братья и сестры жили в одном королевстве. У ни...     neutral\n",
       "\n",
       "[3022 rows x 2 columns]"
      ]
     },
     "execution_count": 10,
     "metadata": {},
     "output_type": "execute_result"
    }
   ],
   "source": [
    "KinoPoisk_df = pd.read_csv('Data/after_augmentation.csv')\n",
    "KinoPoisk_df"
   ]
  },
  {
   "cell_type": "code",
   "execution_count": 11,
   "metadata": {
    "ExecuteTime": {
     "end_time": "2020-06-21T14:20:34.461770Z",
     "start_time": "2020-06-21T14:20:34.455775Z"
    }
   },
   "outputs": [],
   "source": [
    "X = KinoPoisk_df['review_text']\n",
    "y = KinoPoisk_df['review_type']"
   ]
  },
  {
   "cell_type": "code",
   "execution_count": 12,
   "metadata": {
    "ExecuteTime": {
     "end_time": "2020-06-21T14:20:34.632696Z",
     "start_time": "2020-06-21T14:20:34.464768Z"
    }
   },
   "outputs": [
    {
     "name": "stdout",
     "output_type": "stream",
     "text": [
      "good 1410 - 46.66 %\n",
      "bad 812 - 26.87 %\n",
      "neutral 800 - 26.47 %\n"
     ]
    }
   ],
   "source": [
    "for t in y.unique():\n",
    "    rev_count = len(y[y==t])\n",
    "    print(t, rev_count, '-', round(rev_count/len(X)*100, 2), '%')"
   ]
  },
  {
   "cell_type": "markdown",
   "metadata": {},
   "source": [
    "### Предобработка"
   ]
  },
  {
   "cell_type": "code",
   "execution_count": 13,
   "metadata": {
    "ExecuteTime": {
     "end_time": "2020-06-21T14:20:34.791770Z",
     "start_time": "2020-06-21T14:20:34.637693Z"
    }
   },
   "outputs": [],
   "source": [
    "# удаление знаков препинания, замена Заглавных букв строчными, исправление пробелов\n",
    "def sentence_preprocessor(sentence):\n",
    "    sentece = sentence.replace('\\xa0', ' ').replace('.', ' ').replace('—', ' ').replace('  ', ' ').lower()\n",
    "    sentece = ''.join(ch for ch in sentece if ch not in set(string.punctuation))\n",
    "    return sentece"
   ]
  },
  {
   "cell_type": "code",
   "execution_count": 14,
   "metadata": {
    "ExecuteTime": {
     "end_time": "2020-06-21T14:20:34.986861Z",
     "start_time": "2020-06-21T14:20:34.794767Z"
    }
   },
   "outputs": [],
   "source": [
    "# nltk.download('stopwords')"
   ]
  },
  {
   "cell_type": "code",
   "execution_count": 15,
   "metadata": {
    "ExecuteTime": {
     "end_time": "2020-06-21T14:20:35.239755Z",
     "start_time": "2020-06-21T14:20:34.988836Z"
    }
   },
   "outputs": [],
   "source": [
    "stop_words= nltk.corpus.stopwords.words('russian')\n",
    "def stopwords_deleter(sentence): # удаляет стоп-слова из предложения\n",
    "    splits = sentence.split()\n",
    "    for word in splits:\n",
    "        if word in stop_words:\n",
    "            splits.remove(word)\n",
    "    return ' '.join(splits)"
   ]
  },
  {
   "cell_type": "code",
   "execution_count": 16,
   "metadata": {
    "ExecuteTime": {
     "end_time": "2020-06-21T14:20:49.496499Z",
     "start_time": "2020-06-21T14:20:35.241754Z"
    }
   },
   "outputs": [],
   "source": [
    "# удаляем стоп-слова и приводим строки в порядок\n",
    "X = pd.Series([stopwords_deleter(sentence_preprocessor(sentence)) for sentence in KinoPoisk_df['review_text']])\n",
    "# кодируем целевую переменную в формате one hot encoding\n",
    "y = utils.to_categorical([0 if mark=='bad' else (1 if mark=='neutral' else 2) for mark in KinoPoisk_df['review_type']], len(KinoPoisk_df['review_type'].unique()))"
   ]
  },
  {
   "cell_type": "markdown",
   "metadata": {},
   "source": [
    "### Токенизация"
   ]
  },
  {
   "cell_type": "code",
   "execution_count": 17,
   "metadata": {
    "ExecuteTime": {
     "end_time": "2020-06-21T14:20:49.509467Z",
     "start_time": "2020-06-21T14:20:49.498472Z"
    }
   },
   "outputs": [],
   "source": [
    "tokenizer = Tokenizer(num_words=10000)"
   ]
  },
  {
   "cell_type": "code",
   "execution_count": 18,
   "metadata": {
    "ExecuteTime": {
     "end_time": "2020-06-21T14:20:51.935916Z",
     "start_time": "2020-06-21T14:20:49.520459Z"
    }
   },
   "outputs": [],
   "source": [
    "tokenizer.fit_on_texts(X)"
   ]
  },
  {
   "cell_type": "code",
   "execution_count": 19,
   "metadata": {
    "ExecuteTime": {
     "end_time": "2020-06-21T14:20:51.959906Z",
     "start_time": "2020-06-21T14:20:51.937920Z"
    }
   },
   "outputs": [
    {
     "data": {
      "text/plain": [
       "(114710,)"
      ]
     },
     "execution_count": 19,
     "metadata": {},
     "output_type": "execute_result"
    }
   ],
   "source": [
    "len(tokenizer.word_index), \\\n",
    "# tokenizer.word_index"
   ]
  },
  {
   "cell_type": "code",
   "execution_count": 20,
   "metadata": {
    "ExecuteTime": {
     "end_time": "2020-06-21T14:21:03.949641Z",
     "start_time": "2020-06-21T14:20:51.967904Z"
    }
   },
   "outputs": [
    {
     "data": {
      "text/plain": [
       "257"
      ]
     },
     "execution_count": 20,
     "metadata": {},
     "output_type": "execute_result"
    }
   ],
   "source": [
    "words_count_mean = []\n",
    "for sentence in X:\n",
    "    words_count_mean.append(\n",
    "        len( (stopwords_deleter(sentence_preprocessor(sentence))).split() )\n",
    "    )\n",
    "num_words = math.ceil(np.mean(words_count_mean))\n",
    "num_words"
   ]
  },
  {
   "cell_type": "markdown",
   "metadata": {},
   "source": [
    "В среднем отзыв состоит из 257 слов."
   ]
  },
  {
   "cell_type": "code",
   "execution_count": 21,
   "metadata": {
    "ExecuteTime": {
     "end_time": "2020-06-21T14:21:05.614984Z",
     "start_time": "2020-06-21T14:21:03.953635Z"
    }
   },
   "outputs": [],
   "source": [
    "sequences = tokenizer.texts_to_sequences(X)"
   ]
  },
  {
   "cell_type": "code",
   "execution_count": 22,
   "metadata": {
    "ExecuteTime": {
     "end_time": "2020-06-21T14:21:05.623979Z",
     "start_time": "2020-06-21T14:21:05.616981Z"
    }
   },
   "outputs": [
    {
     "name": "stdout",
     "output_type": "stream",
     "text": [
      "данный фильм порекомендовала мама также следует наверное отметить факт моя собственная семья очень похожа семейство фильма меня сестра которая является счастливой женой мамой легкомысленная неприкаянная первых минут головой погрузилась атмосферу наблюдала событиями экране буквально первого лица возможно именно поэтому воспринимала события близко сердцу была объективна оценке этого фильма однако говоря откровенно ктото бывает объективен выставляя оценку чемулибоданную картину бы отнесла остросоциальной тематике ней раскрывается животрепещущий вопрос эвтаназия также заставляет задуматься пересмотреть свое мнение множестве вещей семья отношения мужчиной женщиной измены наркотики любовь родной земле жажда жизни вопросы волновали волнуют множество людей всему свету будут актуальны все времена скандинавское кино стало меня открытием совсем недавно однако хочется отметить такие элементы высокая кинематографичность невероятно красивая визуализация каждый кадр практически высокохудожественное фото отличный кастинг продуманный сценарий глубокие идеи проходящие сквозь картину красным пунктиром несмотря печальный лейтмотив кино довольно часто дает зрителю повод улыбнуться даже посмеяться голос некоторыми ситуациями диалогами любой человек которого есть большая семья сможет узнать одном героев в целом бы сказала фильму удается сочетать несочетаемое комбинируя психологическую драму с элементами семейного кино социальной сатирой делая это очень умело ненавязчиво рекомендую просмотру зрителям которые также считают что фильм должен иметь смысловую нагрузку оставлять вопросы поднимать дна души скрытые чувства эмоции практически не плачу изза фильмов при просмотре «тихого сердца» ревела маленькая девочка просмотра фильм подарил моему сердцу тишину и покой 10 10\n",
      "\n",
      "[246, 4, 2294, 35, 698, 388, 396, 535, 3996, 870, 7, 2337, 8, 89, 3105, 39, 69, 4723, 1344, 5724, 343, 285, 2078, 445, 1896, 116, 453, 472, 590, 121, 33, 49, 273, 2248, 7115, 553, 9526, 109, 8, 45, 287, 381, 290, 785, 1586, 389, 30, 8192, 278, 1671, 250, 35, 736, 1297, 2295, 266, 666, 1482, 870, 274, 2809, 2249, 4931, 5174, 234, 3353, 1328, 7116, 26, 434, 802, 47, 506, 7117, 344, 6708, 20, 871, 21, 413, 89, 6014, 419, 1329, 45, 156, 396, 154, 1381, 704, 1273, 113, 1642, 196, 3609, 1095, 6346, 9527, 216, 3106, 642, 2008, 389, 169, 21, 96, 347, 812, 291, 4724, 9528, 34, 3717, 1778, 4725, 7633, 2296, 577, 75, 103, 51, 821, 870, 1039, 803, 439, 42, 3, 151, 30, 2631, 303, 2451, 7118, 1148, 27, 1587, 3997, 21, 2043, 1696, 1, 7, 1643, 580, 654, 967, 12, 35, 2452, 6, 4, 284, 1588, 434, 8193, 9529, 968, 511, 456, 196, 2, 78, 117, 226, 676, 3107, 1424, 80, 4, 5175, 1382, 7115, 5, 8792, 14, 14] 177\n"
     ]
    }
   ],
   "source": [
    "print(X[0], end='\\n\\n')\n",
    "print(sequences[0], len(sequences[0]))"
   ]
  },
  {
   "cell_type": "code",
   "execution_count": 23,
   "metadata": {
    "ExecuteTime": {
     "end_time": "2020-06-21T14:21:05.840003Z",
     "start_time": "2020-06-21T14:21:05.630972Z"
    }
   },
   "outputs": [],
   "source": [
    "X = pad_sequences(sequences, maxlen=num_words)"
   ]
  },
  {
   "cell_type": "code",
   "execution_count": 24,
   "metadata": {
    "ExecuteTime": {
     "end_time": "2020-06-21T14:21:05.989087Z",
     "start_time": "2020-06-21T14:21:05.845000Z"
    }
   },
   "outputs": [
    {
     "data": {
      "text/plain": [
       "(257,\n",
       " array([   0,    0,    0,    0,    0,    0,    0,    0,    0,    0,    0,\n",
       "           0,    0,    0,    0,    0,    0,    0,    0,    0,    0,    0,\n",
       "           0,    0,    0,    0,    0,    0,    0,    0,    0,    0,    0,\n",
       "           0,    0,    0,    0,    0,    0,    0,    0,    0,    0,    0,\n",
       "           0,    0,    0,    0,    0,    0,    0,    0,    0,    0,    0,\n",
       "           0,    0,    0,    0,    0,    0,    0,    0,    0,    0,    0,\n",
       "           0,    0,    0,    0,    0,    0,    0,    0,    0,    0,    0,\n",
       "           0,    0,    0,  246,    4, 2294,   35,  698,  388,  396,  535,\n",
       "        3996,  870,    7, 2337,    8,   89, 3105,   39,   69, 4723, 1344,\n",
       "        5724,  343,  285, 2078,  445, 1896,  116,  453,  472,  590,  121,\n",
       "          33,   49,  273, 2248, 7115,  553, 9526,  109,    8,   45,  287,\n",
       "         381,  290,  785, 1586,  389,   30, 8192,  278, 1671,  250,   35,\n",
       "         736, 1297, 2295,  266,  666, 1482,  870,  274, 2809, 2249, 4931,\n",
       "        5174,  234, 3353, 1328, 7116,   26,  434,  802,   47,  506, 7117,\n",
       "         344, 6708,   20,  871,   21,  413,   89, 6014,  419, 1329,   45,\n",
       "         156,  396,  154, 1381,  704, 1273,  113, 1642,  196, 3609, 1095,\n",
       "        6346, 9527,  216, 3106,  642, 2008,  389,  169,   21,   96,  347,\n",
       "         812,  291, 4724, 9528,   34, 3717, 1778, 4725, 7633, 2296,  577,\n",
       "          75,  103,   51,  821,  870, 1039,  803,  439,   42,    3,  151,\n",
       "          30, 2631,  303, 2451, 7118, 1148,   27, 1587, 3997,   21, 2043,\n",
       "        1696,    1,    7, 1643,  580,  654,  967,   12,   35, 2452,    6,\n",
       "           4,  284, 1588,  434, 8193, 9529,  968,  511,  456,  196,    2,\n",
       "          78,  117,  226,  676, 3107, 1424,   80,    4, 5175, 1382, 7115,\n",
       "           5, 8792,   14,   14]))"
      ]
     },
     "execution_count": 24,
     "metadata": {},
     "output_type": "execute_result"
    }
   ],
   "source": [
    "len(X[0]), X[0]"
   ]
  },
  {
   "cell_type": "markdown",
   "metadata": {},
   "source": [
    "### Выделение отложенной выборки"
   ]
  },
  {
   "cell_type": "code",
   "execution_count": 25,
   "metadata": {
    "ExecuteTime": {
     "end_time": "2020-06-21T14:21:06.184938Z",
     "start_time": "2020-06-21T14:21:05.992078Z"
    }
   },
   "outputs": [],
   "source": [
    "# выделили отложенную выборку\n",
    "X_train, X_val, y_train, y_val = train_test_split(X, y, test_size=0.1, random_state=2, shuffle=True, stratify=y)"
   ]
  },
  {
   "cell_type": "markdown",
   "metadata": {},
   "source": [
    "## Создание модели"
   ]
  },
  {
   "cell_type": "code",
   "execution_count": 26,
   "metadata": {
    "ExecuteTime": {
     "end_time": "2020-06-21T14:21:06.315145Z",
     "start_time": "2020-06-21T14:21:06.186930Z"
    },
    "scrolled": true
   },
   "outputs": [
    {
     "data": {
      "text/plain": [
       "(2719, 303, 247)"
      ]
     },
     "execution_count": 26,
     "metadata": {},
     "output_type": "execute_result"
    }
   ],
   "source": [
    "len(X_train), len(X_val), len(X_test)"
   ]
  },
  {
   "cell_type": "markdown",
   "metadata": {},
   "source": [
    "### Сверточная нейросеть"
   ]
  },
  {
   "cell_type": "code",
   "execution_count": 27,
   "metadata": {
    "ExecuteTime": {
     "end_time": "2020-06-21T14:21:07.913601Z",
     "start_time": "2020-06-21T14:21:06.324140Z"
    },
    "code_folding": []
   },
   "outputs": [],
   "source": [
    "first_model = Sequential([\n",
    "    layer.Embedding(15000, 512, input_length=num_words),\n",
    "    layer.Dropout(0.2),\n",
    "    layer.Conv1D(128, 5, padding='valid', activation='relu'),\n",
    "    layer.Dropout(0.2),\n",
    "    layer.Flatten(),\n",
    "    layer.Dense(3, activation='softmax')\n",
    "])\n",
    "\n",
    "first_model.compile(optimizer='adam',\n",
    "                    loss='categorical_crossentropy',\n",
    "                    metrics=['mae', 'categorical_accuracy', 'accuracy'])\n",
    "\n",
    "first_model_path = 'first_best_model.h5'\n",
    "checkpoint_first_model = ModelCheckpoint('Data/{}'.format(first_model_path),\n",
    "                                         monitor='val_accuracy',\n",
    "                                         save_best_only=True, verbose=True)"
   ]
  },
  {
   "cell_type": "code",
   "execution_count": null,
   "metadata": {
    "ExecuteTime": {
     "start_time": "2020-06-21T14:18:39.629Z"
    },
    "code_folding": [],
    "scrolled": true
   },
   "outputs": [
    {
     "name": "stdout",
     "output_type": "stream",
     "text": [
      "Train on 2719 samples, validate on 303 samples\n",
      "Epoch 1/25\n"
     ]
    }
   ],
   "source": [
    "history_first_model = first_model.fit(X_train, \n",
    "                                      y_train, \n",
    "                                      epochs=25, \n",
    "                                      batch_size=400, \n",
    "                                      validation_data=(X_val, y_val),\n",
    "                                      callbacks=[checkpoint_first_model],\n",
    "                                     )"
   ]
  },
  {
   "cell_type": "code",
   "execution_count": null,
   "metadata": {
    "ExecuteTime": {
     "start_time": "2020-06-21T14:18:39.632Z"
    },
    "code_folding": [
     4,
     10,
     12,
     18,
     20,
     27,
     29,
     35,
     37
    ],
    "scrolled": false
   },
   "outputs": [],
   "source": [
    "fig, ax = plt.subplots(nrows=2, ncols=2, figsize=(20, 10))\n",
    "fig.suptitle('Анализ метрик при обучении first_model', fontsize=20)\n",
    "plt.subplots_adjust(wspace=0.3, hspace=0.5) # расстояние между графиками\n",
    "\n",
    "for row_ax in ax:\n",
    "    for ax_one in row_ax:\n",
    "        ax_one.grid()\n",
    "        ax_one.set_xlabel('Эпоха обучения', fontsize=15)\n",
    "        ax_one.set_yticks(np.arange(0, 1.1, step=0.1))\n",
    "        \n",
    "ax[0,0].plot(history_first_model.history['mae'], \n",
    "             label='Среднее абсолютное отклонение на обучающем наборе')\n",
    "ax[0,0].plot(history_first_model.history['val_mae'], \n",
    "             label='Среднее абсолютное отклонение на проверочном наборе')\n",
    "ax[0,0].legend()\n",
    "ax[0,0].set_title('Метрика \"mae\"', fontsize=15)\n",
    "\n",
    "\n",
    "ax[0,1].plot(history_first_model.history['categorical_accuracy'], \n",
    "         label='Доля верных ответов на train по категориям')\n",
    "ax[0,1].plot(history_first_model.history['val_categorical_accuracy'], \n",
    "         label='Доля верных ответов на val по категориям')\n",
    "plt.xlabel('Эпоха обучения')\n",
    "ax[0,1].legend()\n",
    "ax[0,1].set_title('Метрика \"categorical_accuracy\"', fontsize=15)\n",
    "\n",
    "\n",
    "ax[1,0].plot(history_first_model.history['accuracy'], \n",
    "         label='Доля верных ответов на train')\n",
    "ax[1,0].plot(history_first_model.history['val_accuracy'], \n",
    "         label='Доля верных ответов на val')\n",
    "ax[1,0].legend()\n",
    "ax[1,0].set_title('Метрика \"accuracy\"', fontsize=15)\n",
    "\n",
    "\n",
    "ax[1,1].plot(history_first_model.history['loss'], \n",
    "         label='Потери на train')\n",
    "ax[1,1].plot(history_first_model.history['val_loss'], \n",
    "         label='Потери на val')\n",
    "ax[1,1].legend()\n",
    "ax[1,1].set_title('Метрика \"loss\"', fontsize=15);"
   ]
  },
  {
   "cell_type": "markdown",
   "metadata": {},
   "source": [
    "После 9 эпохи начинает расти процент потери. Это может говорить о переобучении"
   ]
  },
  {
   "cell_type": "code",
   "execution_count": null,
   "metadata": {
    "ExecuteTime": {
     "start_time": "2020-06-21T14:18:39.719Z"
    }
   },
   "outputs": [],
   "source": [
    "first_model.summary()"
   ]
  },
  {
   "cell_type": "markdown",
   "metadata": {},
   "source": [
    "### Демонстрация модели"
   ]
  },
  {
   "cell_type": "markdown",
   "metadata": {},
   "source": [
    "### Подготовка тестовой выборки для предсказания "
   ]
  },
  {
   "cell_type": "code",
   "execution_count": null,
   "metadata": {
    "ExecuteTime": {
     "start_time": "2020-06-21T14:18:39.848Z"
    }
   },
   "outputs": [],
   "source": [
    "sequences_test = tokenizer.texts_to_sequences(X_test)\n",
    "X_test = pad_sequences(sequences_test, maxlen=num_words)\n",
    "X_test"
   ]
  },
  {
   "cell_type": "code",
   "execution_count": null,
   "metadata": {
    "ExecuteTime": {
     "start_time": "2020-06-21T14:18:39.853Z"
    }
   },
   "outputs": [],
   "source": [
    "y_train"
   ]
  },
  {
   "cell_type": "code",
   "execution_count": null,
   "metadata": {
    "ExecuteTime": {
     "start_time": "2020-06-21T14:18:39.858Z"
    }
   },
   "outputs": [],
   "source": [
    "# загружаем веса лучшей модели\n",
    "first_model.load_weights('Data/{}'.format(first_model_path))\n",
    "# Считаем качество на тестовой выборке\n",
    "first_model.evaluate(X_test, y_test, verbose=1)"
   ]
  },
  {
   "cell_type": "markdown",
   "metadata": {},
   "source": [
    "**Качество данной модели оставляет желать лучшего...**\n",
    "<hr>\n",
    "Создадим другую модель с другими комбинациями скрытых слоев"
   ]
  },
  {
   "cell_type": "markdown",
   "metadata": {},
   "source": [
    "### Вторая модель (LSTM)"
   ]
  },
  {
   "cell_type": "code",
   "execution_count": null,
   "metadata": {
    "ExecuteTime": {
     "start_time": "2020-06-21T14:18:39.989Z"
    }
   },
   "outputs": [],
   "source": [
    "second_model = Sequential([\n",
    "    l.Embedding(15000, 256, input_length=num_words),\n",
    "    l.Dropout(0.2),\n",
    "    l.LSTM(64),\n",
    "    l.Dropout(0.2),\n",
    "    l.Flatten(),\n",
    "    l.Dense(3, activation='softmax')\n",
    "])\n",
    "\n",
    "second_model.compile(optimizer='adam',\n",
    "                    loss='categorical_crossentropy',\n",
    "                    metrics=['mae', 'categorical_accuracy', 'accuracy'])\n",
    "\n",
    "second_model_path = 'second_best_model.h5'\n",
    "checkpoint_first_model = ModelCheckpoint('Data/{}'.format(second_model_path),\n",
    "                                         monitor='val_accuracy',\n",
    "                                         save_best_only=True, verbose=True)"
   ]
  },
  {
   "cell_type": "code",
   "execution_count": null,
   "metadata": {
    "ExecuteTime": {
     "start_time": "2020-06-21T14:18:39.993Z"
    },
    "scrolled": true
   },
   "outputs": [],
   "source": [
    "history_second_model = second_model.fit(X_train, y_train,\n",
    "                                        epochs=25, \n",
    "                                        batch_size=400, \n",
    "                                        validation_data=(X_val, y_val),\n",
    "                                        callbacks=[checkpoint_first_model],\n",
    "                                       )"
   ]
  },
  {
   "cell_type": "code",
   "execution_count": null,
   "metadata": {
    "ExecuteTime": {
     "start_time": "2020-06-21T14:18:39.997Z"
    }
   },
   "outputs": [],
   "source": [
    "fig, ax = plt.subplots(nrows=2, ncols=2, figsize=(20, 10))\n",
    "fig.suptitle('Анализ метрик при обучении second_model', fontsize=20)\n",
    "plt.subplots_adjust(wspace=0.3, hspace=0.5) # расстояние между графиками\n",
    "\n",
    "for row_ax in ax:\n",
    "    for ax_one in row_ax:\n",
    "        ax_one.grid()\n",
    "        ax_one.set_xlabel('Эпоха обучения', fontsize=15)\n",
    "        ax_one.set_yticks(np.arange(0, 1.1, step=0.1))\n",
    "        \n",
    "ax[0,0].plot(history_second_model.history['mae'], \n",
    "             label='Среднее абсолютное отклонение на обучающем наборе')\n",
    "ax[0,0].plot(history_second_model.history['val_mae'], \n",
    "             label='Среднее абсолютное отклонение на проверочном наборе')\n",
    "ax[0,0].legend()\n",
    "ax[0,0].set_title('Метрика \"mae\"', fontsize=15)\n",
    "\n",
    "\n",
    "ax[0,1].plot(history_second_model.history['categorical_accuracy'], \n",
    "         label='Доля верных ответов на train по категориям')\n",
    "ax[0,1].plot(history_second_model.history['val_categorical_accuracy'], \n",
    "         label='Доля верных ответов на val по категориям')\n",
    "plt.xlabel('Эпоха обучения')\n",
    "ax[0,1].legend()\n",
    "ax[0,1].set_title('Метрика \"categorical_accuracy\"', fontsize=15)\n",
    "\n",
    "\n",
    "ax[1,0].plot(history_second_model.history['accuracy'], \n",
    "         label='Доля верных ответов на train')\n",
    "ax[1,0].plot(history_second_model.history['val_accuracy'], \n",
    "         label='Доля верных ответов на val')\n",
    "ax[1,0].legend()\n",
    "ax[1,0].set_title('Метрика \"accuracy\"', fontsize=15)\n",
    "\n",
    "\n",
    "ax[1,1].plot(history_second_model.history['loss'], \n",
    "         label='Потери на train')\n",
    "ax[1,1].plot(history_second_model.history['val_loss'], \n",
    "         label='Потери на val')\n",
    "ax[1,1].legend()\n",
    "ax[1,1].set_title('Метрика \"loss\"', fontsize=15);"
   ]
  },
  {
   "cell_type": "code",
   "execution_count": null,
   "metadata": {
    "ExecuteTime": {
     "start_time": "2020-06-21T14:18:40.000Z"
    }
   },
   "outputs": [],
   "source": [
    "second_model.summary()"
   ]
  },
  {
   "cell_type": "code",
   "execution_count": null,
   "metadata": {
    "ExecuteTime": {
     "start_time": "2020-06-21T14:18:40.003Z"
    }
   },
   "outputs": [],
   "source": [
    "# загружаем веса лучшей модели\n",
    "second_model.load_weights('Data/{}'.format(second_model_path))\n",
    "# Считаем качество на тестовой выборке\n",
    "second_model.evaluate(X_test, y_test, verbose=1)"
   ]
  },
  {
   "cell_type": "markdown",
   "metadata": {},
   "source": [
    "### Сеть GRU"
   ]
  },
  {
   "cell_type": "code",
   "execution_count": null,
   "metadata": {
    "ExecuteTime": {
     "start_time": "2020-06-21T14:18:40.107Z"
    }
   },
   "outputs": [],
   "source": [
    "third_model = Sequential([\n",
    "    l.Embedding(15000, 256, input_length=num_words),\n",
    "    l.Dropout(0.2),\n",
    "    l.GRU(64),\n",
    "    l.Dropout(0.2),\n",
    "    l.Flatten(),\n",
    "    l.Dense(3, activation='softmax')\n",
    "])\n",
    "\n",
    "third_model.compile(optimizer='adam',\n",
    "                    loss='categorical_crossentropy',\n",
    "                    metrics=['mae', 'categorical_accuracy', 'accuracy'])\n",
    "\n",
    "third_model_path = 'third_best_model.h5'\n",
    "checkpoint_first_model = ModelCheckpoint('Data/{}'.format(third_model_path),\n",
    "                                         monitor='val_accuracy',\n",
    "                                         save_best_only=True, verbose=True)"
   ]
  },
  {
   "cell_type": "code",
   "execution_count": null,
   "metadata": {
    "ExecuteTime": {
     "start_time": "2020-06-21T14:18:40.111Z"
    },
    "scrolled": true
   },
   "outputs": [],
   "source": [
    "history_third_model = third_model.fit(X_train, y_train,\n",
    "                                        epochs=25, \n",
    "                                        batch_size=400, \n",
    "                                        validation_data=(X_val, y_val),\n",
    "                                        callbacks=[checkpoint_first_model],\n",
    "                                       )"
   ]
  },
  {
   "cell_type": "code",
   "execution_count": null,
   "metadata": {
    "ExecuteTime": {
     "start_time": "2020-06-21T14:18:40.115Z"
    }
   },
   "outputs": [],
   "source": [
    "fig, ax = plt.subplots(nrows=2, ncols=2, figsize=(20, 10))\n",
    "fig.suptitle('Анализ метрик при обучении third_model', fontsize=20)\n",
    "plt.subplots_adjust(wspace=0.3, hspace=0.5) # расстояние между графиками\n",
    "\n",
    "for row_ax in ax:\n",
    "    for ax_one in row_ax:\n",
    "        ax_one.grid()\n",
    "        ax_one.set_xlabel('Эпоха обучения', fontsize=15)\n",
    "        ax_one.set_yticks(np.arange(0, 1.1, step=0.1))\n",
    "        \n",
    "ax[0,0].plot(history_third_model.history['mae'], \n",
    "             label='Среднее абсолютное отклонение на обучающем наборе')\n",
    "ax[0,0].plot(history_third_model.history['val_mae'], \n",
    "             label='Среднее абсолютное отклонение на проверочном наборе')\n",
    "ax[0,0].legend()\n",
    "ax[0,0].set_title('Метрика \"mae\"', fontsize=15)\n",
    "\n",
    "\n",
    "ax[0,1].plot(history_third_model.history['categorical_accuracy'], \n",
    "         label='Доля верных ответов на train по категориям')\n",
    "ax[0,1].plot(history_third_model.history['val_categorical_accuracy'], \n",
    "         label='Доля верных ответов на val по категориям')\n",
    "plt.xlabel('Эпоха обучения')\n",
    "ax[0,1].legend()\n",
    "ax[0,1].set_title('Метрика \"categorical_accuracy\"', fontsize=15)\n",
    "\n",
    "\n",
    "ax[1,0].plot(history_third_model.history['accuracy'], \n",
    "         label='Доля верных ответов на train')\n",
    "ax[1,0].plot(history_third_model.history['val_accuracy'], \n",
    "         label='Доля верных ответов на val')\n",
    "ax[1,0].legend()\n",
    "ax[1,0].set_title('Метрика \"accuracy\"', fontsize=15)\n",
    "\n",
    "\n",
    "ax[1,1].plot(history_third_model.history['loss'], \n",
    "         label='Потери на train')\n",
    "ax[1,1].plot(history_third_model.history['val_loss'], \n",
    "         label='Потери на val')\n",
    "ax[1,1].legend()\n",
    "ax[1,1].set_title('Метрика \"loss\"', fontsize=15);"
   ]
  },
  {
   "cell_type": "code",
   "execution_count": null,
   "metadata": {
    "ExecuteTime": {
     "start_time": "2020-06-21T14:18:40.119Z"
    }
   },
   "outputs": [],
   "source": [
    "# загружаем веса лучшей модели\n",
    "third_model.load_weights('Data/{}'.format(third_model_path))\n",
    "# Считаем качество на тестовой выборке\n",
    "third_model.evaluate(X_test, y_test, verbose=1)"
   ]
  },
  {
   "cell_type": "code",
   "execution_count": null,
   "metadata": {},
   "outputs": [],
   "source": []
  },
  {
   "cell_type": "markdown",
   "metadata": {},
   "source": [
    "## Что нужно изучить:\n",
    "- приращивание данных (data-augmentation) \n",
    "- пакетная нормализация (batch normalization).\n",
    "- embedding fasttext"
   ]
  },
  {
   "cell_type": "code",
   "execution_count": null,
   "metadata": {},
   "outputs": [],
   "source": []
  }
 ],
 "metadata": {
  "kernelspec": {
   "display_name": "Python 3",
   "language": "python",
   "name": "python3"
  },
  "language_info": {
   "codemirror_mode": {
    "name": "ipython",
    "version": 3
   },
   "file_extension": ".py",
   "mimetype": "text/x-python",
   "name": "python",
   "nbconvert_exporter": "python",
   "pygments_lexer": "ipython3",
   "version": "3.7.7"
  },
  "toc": {
   "base_numbering": 1,
   "nav_menu": {},
   "number_sections": true,
   "sideBar": true,
   "skip_h1_title": false,
   "title_cell": "",
   "title_sidebar": "Навигация",
   "toc_cell": false,
   "toc_position": {
    "height": "calc(100% - 180px)",
    "left": "10px",
    "top": "150px",
    "width": "192.188px"
   },
   "toc_section_display": true,
   "toc_window_display": true
  }
 },
 "nbformat": 4,
 "nbformat_minor": 4
}
